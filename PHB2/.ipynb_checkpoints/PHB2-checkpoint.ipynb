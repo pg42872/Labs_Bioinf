{
 "cells": [
  {
   "cell_type": "code",
   "execution_count": 2,
   "metadata": {},
   "outputs": [],
   "source": [
    "from Bio.Seq import Seq\n",
    "from Bio import SeqIO\n",
    "from Bio.SeqRecord import SeqRecord\n",
    "from Bio.SeqFeature import SeqFeature, FeatureLocation\n",
    "from Bio.Blast import NCBIWWW, NCBIXML\n",
    "from Bio import Entrez"
   ]
  },
  {
   "cell_type": "code",
   "execution_count": null,
   "metadata": {},
   "outputs": [],
   "source": [
    "#PHB2\n",
    "#Aceder ao NCBI e importar o ficheiro do gene no formato GenBank\n",
    "Entrez.email = \"jpsfreitas12@gmial.com\"  # Always tell NCBI who you are\n",
    "handle = Entrez.efetch(db=\"nucleotide\", id=\"NC_000017.11\", rettype=\"gb\", retmode=\"text\")\n",
    "print(handle.read())"
   ]
  },
  {
   "cell_type": "code",
   "execution_count": 3,
   "metadata": {},
   "outputs": [
    {
     "data": {
      "text/plain": [
       "SeqRecord(seq=Seq('TCCGTATGCGCGATTCCTGTGCGCGAAGTTCGGGTCCGTAGTGGGCTAAGGGGG...AAC'), id='NC_000012.12:c6970753-6965327', name='NC_000012.12:c6970753-6965327', description='NC_000012.12:c6970753-6965327 Homo sapiens chromosome 12, GRCh38.p13 Primary Assembly', dbxrefs=[])"
      ]
     },
     "execution_count": 3,
     "metadata": {},
     "output_type": "execute_result"
    }
   ],
   "source": [
    "#Ficheiro FASTA\n",
    "phb2fa = SeqIO.read(open(\"C:/Users/Zé Freitas/Desktop/Mestrado/Labs_Bioinf/Trabalho prático/scripts/Labs_Bioinf/PHB2/sequence.fasta\"),\"fasta\")\n",
    "phb2fa"
   ]
  },
  {
   "cell_type": "code",
   "execution_count": 4,
   "metadata": {},
   "outputs": [
    {
     "name": "stdout",
     "output_type": "stream",
     "text": [
      "TCCGTATGCGCGATTCCTGTGCGCGAAGTTCGGGTCCGTAGTGGGCTAAGGGGGAGGGTTTCAAAGGGAGCGCACTTCCGCTGCCCTTTCTTTCGCCAGCCTTACGGGCCCGAACCCTCGTGTGAAGGGTGCAGTACCTAAGCCGGAGCGGGGTAGAGGCGGGCCGGCACCCCCTTCTGACCTCCAGTGCCGCCGGCCTCAAGATCAGACATGGCCCAGAACTTGAAGGACTTGGCGGGACGGCTGCCCGCCGGGCCCCGGGGCATGGGCACGGCCCTGAAGCTGTTGCTGGGGGCCGGCGCCGTGGCCTACGGTGTGCGCGAATCTGTGTTCACCGGTGAGCAACCTCCGCCTGCTCGCCGGACGCTTCCAGTCCCTCCCCCAAACCCCTTGCCCTGTCCCCGCGCCCCTCCACGGGCCTAGCATTTCCTCTGAGCAGCGGCCTGGCCTGATCACCACCCATCTCCCCACAGTGGAAGGCGGGCACAGAGCCATCTTCTTCAATCGGATCGGTGGAGTGCAGCAGGACACTATCCTGGCCGAGGGCCTTCACTTCAGGTAATGGCGGGCAGAGCCTGCTGACCCTGACCTTTCACCCTTGACGCCGACCCAGCAGTGGCTATAGTCGGACGTGCAACAGGATTCAACGCTGCTCTTTTCCCACCCTCCTCATCCCTGCCCCTAGGATAGTGGGTGCTGCGAGAACCTCCAGCAGCATACAAACTGTTGTTTTCCAGAGGGACAAGAGAATCTCTCCTTGTCTGTGGTCGTGGAGAGGAGCAGGCCAAAAAACGCGTGGTGAGGGGAAACCGGGCAAGGCTAGTGAAACTGCGGCCTTTTCTTTTTTTTTTTTTGGAGAGGGAGTCTTGCTCTGTCGCCCAGGCTGGAGTGCAGTGGCGCGATCTCGGCTCACTGCAACCTCCGCCTCCTGATTTCAAGCGATTCTCCTGCCTCAGCCTCACGAGTAGCTGGGATTACAGGCGCCCGCCACCACGCCCGGCTAATTTTTGTATTTTAGTAGAGACGGGGTTTCACTATGTAGATCAAGCTGGTCTCGAACTCCTGACCTCAAATGATCCGCCCGCCTCGGCCTCCCAAAGTGCTGGGATTACAGGCGTGAGCCACCGCGCCCGGCCGAAACTGTGGCCTCTTAATACCTATCCCTGTCCTCTCCAGGATCCCTTGGTTCCAGTACCCCATTATCTATGACATTCGGGCCAGACCTCGAAAAATCTCCTCCCCTACAGGCTCCAAAGGTAGGTCTGAGCACTTGGTAATCACATGGCAGGTGGGATGATCAAGGTAGCTGGCAAGAAACCCCAGGGGAATATGGTAGTGTCAGGCCTTTAGGCCTCTTTCCACATCTGCAAGAGCTGTAACAAAAATACCTGCCTCCTGGGGTCAAAGCAGCAAATTCTGAACACACTGTGTTTGCGTGCTTTTTACTGTCTCCTCCCTGACGTGTATTCAATAAGAGTATTGTTTGTCCCTCGTCTTGTTCACTGCCTAGATCAAAGCTTTGTTTTAAAGCCTTTTTTTTCTAACTGCTTGACTTACTATATCTACAGTTACATCCACTAGTACACTCTGTTCTGGAGAAGTTTGTCCCTAAGCTTGACTAGTTCACCTGTTCTCTCCTTCTAGACCATACATAAAAGCCGTGCCTTTGAGTTCCCCAGACCTCTTCCTCCTCCCCACCCACGCACACATATACACCCTGGGTCAGGTAGCTCACCTGTAACCTGTAATGTACTTCTTTGTGCTATACCTAGTGCAGGTCGCTTATTCATTTACTAGACTGGGCCCTGGGAATAAAAGATTCATTAAACACAATTCTTGTCCCCCAAGTCCTTACAGGAGACATGATTACGGTACAGCACGAAAGCGCCCACGTTAGAGGTTGCACAGAGTACAGAGGGGGAAAGAGTAGTCAGCTCTGCTGGTGACGGGGTTTGCAGTTCAAGGCTTCACAGTGGGTGAGGGTGCATTTCAGCTGTGCTGCGTCTTGTCTTCCTTGTCAGCCTGATTAACTCTCCTCCCCCCAGGGTAGTGCCAGGCTGTACACCATTGCACAGGGCATACAGGGAGGAACATGAAGGAGAAAATGCTTGGGAAAGGGTGTTTGGCCTTGACCAGCCACTGCTGACCTCAATCTCAGACCTACAGATGGTGAATATCTCCCTGCGAGTGTTGTCTCGACCCAATGCTCAGGAGCTTCCTAGCATGTACCAGCGCCTAGGGCTGGACTACGAGGAACGAGTGTTGCCGTCCATTGTCAACGAGGTGCTCAAGAGTGTGGTGGCCAAGTTCAATGCCTCACAGCTGATCACCCAGCGGGCCCAGGTCTGACTCCCACCACCATCTGCGTGGTGTCAGCCTTTCCTTCCTAGGCCCAGAGTATTGGGAATTAGGAAAGGCAGCTTATTAGAAAAGCATTGTCACCCTAGTGCCATTTCCACCTAAAAGCTGTGCTAATTGCCACTGTGAAATAAGGAGAGCCAGCATTAGAACTCGATAGCACTCGGTGTTAGGAAGCACAGAGGAAAATGGCCAAGTCTTGGCTTTTCCTGCACCTCTTCGAGCAGAGAGGCTTATGTTACAGGTTTGCCTGACAGGAAGCTAAGGCAGTGCATGTTGTATTGAGAGTGAAGGGTTAGGGGTCGCAACCTTCCTTTCAGCTCCCCAGTCCCCTCAAACCACCCCTCCCTTCCCCTCTTCACCCCTGCCCTCAGGTATCCCTGTTGATCCGCCGGGAGCTGACAGAGAGGGCCAAGGACTTCAGCCTCATCCTGGATGATGTGGCCATCACAGAGCTGAGCTTTAGCCGAGAGTACACAGCTGCTGTAGAAGCCAAACAAGTGGGTGAGTCGCAAGAGCCGTGGGGTGAGGGCTTCTGAGATGCAGGAGGAGGAAAGACTCCATGGGTGGGGCTCCTGACCCAGGACAGGGTCTCCCTGACTCTCTCCCACCACAGCCCAGCAGGAGGCCCAGCGGGCCCAATTCTTGGTAGAAAAAGCAAAGCAGGAACAGCGGCAGAAAATTGTGCAGGCCGAGGGTGAGGCCGAGGCTGCCAAGATGATATCCTTCTGCTGGAGAGATCTCAGCCCAGCCCCTAGGGCACCTGAGTTCCCCATTCTCCTTCATGGGCAGGCTGATGAGACTAAGGCGAATGCGACTCCGTGCTCTCTGGCCCTTGGCTCCTTGTTGGGGGTGGGGACTACAGATGAGATCTGAAATCTTAGTGGTAGTACCTGAGCCATGACTCCCCACTGTAAGGCCAGATCAATAGCATTGGTGGCCTTGCCTTCATTTCTGGTGCTGCCCCTAGTTCCTGGCAGCAGCCTGCAGGGAGGCCCACAGGTGGGGTCCACGGTAGGGCTGGGCACAAGCCACCTGAGCGCAACCTTGGATCTGACAGCCCAGAGGAGGACTGGAGCAAGGGAGTGTGGTAAGGACAGGGCCAGGGATTGAGACCTGCCCTTGCGTGTACCTTAACCCTCCTCACCTTGGAGAAGCACTGAGCAAGAACCCTGGCTACATCAAACTTCGCAAGATTCGAGCAGCCCAGAATATCTCCAAGACGGTGAGTGTGTCAGCCCAGCGTCTCTGATGGGGCTGCCTTGAGAAAGTGCTTTCAGTTAAGGCACATTGAGGTGAGGGAATTCGAACCTTGCTTGTTCCGGTTTCTACTCAGATTGGCTTCTCTGGCCGGCGCGGTGGCTCACGCATGTAATCCCCGCACTTTGGGAGGCCAAGGTGGGTGGATCACCTGAGGTCAGGAGTTCGAGACCAGCCTGGCCAACATGGTGAAACCCCATCTCTACTAAAAATACAAAAGATAATGAGCCCGCTGTGGTGGCGTTTAGCTATATTCCCAGCTACGCAGGAGGCTGAGGCAGGAGAATCACTTGAACCCAGGAGGCGGAAGTTGCAGTGAGCTGAGATCATGCCACTGCACTCCAGCCTGAGCAACAGAGCAAGACTCCGTCTCAAAAATAAATAAATAAAAAATTGGCTTCTCCGATACTCCTCCTGTCAAGAATGATTCCTCTGGGTTCCCTGACCTTTTGTTCTAATCATAGCTGCTGCTCAGCGCTCTGGATCCCTAAGTGCGAGCAGAAACCATGTGTTACTCATTGCTGCACCCCTGCCCTAATCTGCATGTGTTCCATGTTAAGTAGCTGCTGAATTGCAGGGGTCGGAATTGAGGTCTTTGCTTAATGCAAGCATCTGTCTTATTTCCTGCCCTGTAGATCGCCACATCACAGAATCGTATCTATCTCACAGCTGACAACCTTGTGCTGAACCTACAGGATGAAAGTTTCACCAGGTGAGAGATGTGGCCACACTGTGGGGTATCACCAAGAACGTGGGACCTGAGTCTGGTTGTTTGGGCTCTGGAGCCTGCTACAGCTATTCATATGGCTCAGAGACATTGAACCAAAATTAGAAAAGGGGGTGGTTGACAGTTTCTATCTTGCATCTCATAGGATTGATTTTATGAGATCAAATAGGATTATTCACATAAAAAGCACTTTAATTATAAAGTTTTCATCTAACCAAAAAGTGATGAAAGATGATACTCAGTTTTCTTACTCAAGAGCCCTCAAACTCCTCTGGTGAATGGAGGGATGTTAGGAAAGGAGATGAGAAATAGCAGTGGCCATGAGAACATGCCTCCTCCTTTCATGAGCCTGAGATTCCTGGCTGTCAACCCTGTTTATCTTTTCTCTTGGGAGCAAAGGAGGGTTCAAAGCTGAGTGGGGCCTGAAGCTGTCAATTAACATGTGCATTTCTCTTCTCTGTTTCTTGTTCATCTGGCGATCTGGCACCACAGGGGAAGGTAAGCTGTTGTTGCTTCTGTGGGGTCCTGCAGGCCACCTTCTCCAGTACCCGCCTCCTACCCTACCCCCTTTCCCACCTCCCCGAAGACAAACCCTCAATCAGGGTAGGAGGGTCGTAGAGGGAATGGCCTAGAGTGTCCTGCCTCTCACATTTATGTCCCCTAATAATGTCATTATCTATCTTTTTTTTCCTACAGTGACAGCCTCATCAAGGGTAAGAAATGAGCCTAGTCACCAAGAACTCCACCCCCAGAGGAAGTGGATCTGCTTCTCCAGTTTTTGAGGAGCCAGCCAGGGGTCCAGCACAGCCCTACCCCGCCCCAGTATCATGCGATGGTCCCCCACACCGGTTCCCTGAACCCCTCTTGGATTAAGGAAGACTGAAGACTAGCCCCTTTTCTGGGGAATTACTTTCCTCCTCCCTGTGTTAACTGGGGCTGTTGGGGACAGTGCGTGATTTCTCAGTGATTTCCTACAGTGTTGTTCCCTCCCTCAAGGCTGGGAGGAGATAAACACCAACCCAGGAATTCTCAATAAATTTTTATTACTTAACCTGAAGTCAAGGCTTCACGTGTTCATGAAC\n",
      "5427\n"
     ]
    }
   ],
   "source": [
    "my_seq = Seq(\"TCCGTATGCGCGATTCCTGTGCGCGAAGTTCGGGTCCGTAGTGGGCTAAGGGGGAGGGTTTCAAAGGGAGCGCACTTCCGCTGCCCTTTCTTTCGCCAGCCTTACGGGCCCGAACCCTCGTGTGAAGGGTGCAGTACCTAAGCCGGAGCGGGGTAGAGGCGGGCCGGCACCCCCTTCTGACCTCCAGTGCCGCCGGCCTCAAGATCAGACATGGCCCAGAACTTGAAGGACTTGGCGGGACGGCTGCCCGCCGGGCCCCGGGGCATGGGCACGGCCCTGAAGCTGTTGCTGGGGGCCGGCGCCGTGGCCTACGGTGTGCGCGAATCTGTGTTCACCGGTGAGCAACCTCCGCCTGCTCGCCGGACGCTTCCAGTCCCTCCCCCAAACCCCTTGCCCTGTCCCCGCGCCCCTCCACGGGCCTAGCATTTCCTCTGAGCAGCGGCCTGGCCTGATCACCACCCATCTCCCCACAGTGGAAGGCGGGCACAGAGCCATCTTCTTCAATCGGATCGGTGGAGTGCAGCAGGACACTATCCTGGCCGAGGGCCTTCACTTCAGGTAATGGCGGGCAGAGCCTGCTGACCCTGACCTTTCACCCTTGACGCCGACCCAGCAGTGGCTATAGTCGGACGTGCAACAGGATTCAACGCTGCTCTTTTCCCACCCTCCTCATCCCTGCCCCTAGGATAGTGGGTGCTGCGAGAACCTCCAGCAGCATACAAACTGTTGTTTTCCAGAGGGACAAGAGAATCTCTCCTTGTCTGTGGTCGTGGAGAGGAGCAGGCCAAAAAACGCGTGGTGAGGGGAAACCGGGCAAGGCTAGTGAAACTGCGGCCTTTTCTTTTTTTTTTTTTGGAGAGGGAGTCTTGCTCTGTCGCCCAGGCTGGAGTGCAGTGGCGCGATCTCGGCTCACTGCAACCTCCGCCTCCTGATTTCAAGCGATTCTCCTGCCTCAGCCTCACGAGTAGCTGGGATTACAGGCGCCCGCCACCACGCCCGGCTAATTTTTGTATTTTAGTAGAGACGGGGTTTCACTATGTAGATCAAGCTGGTCTCGAACTCCTGACCTCAAATGATCCGCCCGCCTCGGCCTCCCAAAGTGCTGGGATTACAGGCGTGAGCCACCGCGCCCGGCCGAAACTGTGGCCTCTTAATACCTATCCCTGTCCTCTCCAGGATCCCTTGGTTCCAGTACCCCATTATCTATGACATTCGGGCCAGACCTCGAAAAATCTCCTCCCCTACAGGCTCCAAAGGTAGGTCTGAGCACTTGGTAATCACATGGCAGGTGGGATGATCAAGGTAGCTGGCAAGAAACCCCAGGGGAATATGGTAGTGTCAGGCCTTTAGGCCTCTTTCCACATCTGCAAGAGCTGTAACAAAAATACCTGCCTCCTGGGGTCAAAGCAGCAAATTCTGAACACACTGTGTTTGCGTGCTTTTTACTGTCTCCTCCCTGACGTGTATTCAATAAGAGTATTGTTTGTCCCTCGTCTTGTTCACTGCCTAGATCAAAGCTTTGTTTTAAAGCCTTTTTTTTCTAACTGCTTGACTTACTATATCTACAGTTACATCCACTAGTACACTCTGTTCTGGAGAAGTTTGTCCCTAAGCTTGACTAGTTCACCTGTTCTCTCCTTCTAGACCATACATAAAAGCCGTGCCTTTGAGTTCCCCAGACCTCTTCCTCCTCCCCACCCACGCACACATATACACCCTGGGTCAGGTAGCTCACCTGTAACCTGTAATGTACTTCTTTGTGCTATACCTAGTGCAGGTCGCTTATTCATTTACTAGACTGGGCCCTGGGAATAAAAGATTCATTAAACACAATTCTTGTCCCCCAAGTCCTTACAGGAGACATGATTACGGTACAGCACGAAAGCGCCCACGTTAGAGGTTGCACAGAGTACAGAGGGGGAAAGAGTAGTCAGCTCTGCTGGTGACGGGGTTTGCAGTTCAAGGCTTCACAGTGGGTGAGGGTGCATTTCAGCTGTGCTGCGTCTTGTCTTCCTTGTCAGCCTGATTAACTCTCCTCCCCCCAGGGTAGTGCCAGGCTGTACACCATTGCACAGGGCATACAGGGAGGAACATGAAGGAGAAAATGCTTGGGAAAGGGTGTTTGGCCTTGACCAGCCACTGCTGACCTCAATCTCAGACCTACAGATGGTGAATATCTCCCTGCGAGTGTTGTCTCGACCCAATGCTCAGGAGCTTCCTAGCATGTACCAGCGCCTAGGGCTGGACTACGAGGAACGAGTGTTGCCGTCCATTGTCAACGAGGTGCTCAAGAGTGTGGTGGCCAAGTTCAATGCCTCACAGCTGATCACCCAGCGGGCCCAGGTCTGACTCCCACCACCATCTGCGTGGTGTCAGCCTTTCCTTCCTAGGCCCAGAGTATTGGGAATTAGGAAAGGCAGCTTATTAGAAAAGCATTGTCACCCTAGTGCCATTTCCACCTAAAAGCTGTGCTAATTGCCACTGTGAAATAAGGAGAGCCAGCATTAGAACTCGATAGCACTCGGTGTTAGGAAGCACAGAGGAAAATGGCCAAGTCTTGGCTTTTCCTGCACCTCTTCGAGCAGAGAGGCTTATGTTACAGGTTTGCCTGACAGGAAGCTAAGGCAGTGCATGTTGTATTGAGAGTGAAGGGTTAGGGGTCGCAACCTTCCTTTCAGCTCCCCAGTCCCCTCAAACCACCCCTCCCTTCCCCTCTTCACCCCTGCCCTCAGGTATCCCTGTTGATCCGCCGGGAGCTGACAGAGAGGGCCAAGGACTTCAGCCTCATCCTGGATGATGTGGCCATCACAGAGCTGAGCTTTAGCCGAGAGTACACAGCTGCTGTAGAAGCCAAACAAGTGGGTGAGTCGCAAGAGCCGTGGGGTGAGGGCTTCTGAGATGCAGGAGGAGGAAAGACTCCATGGGTGGGGCTCCTGACCCAGGACAGGGTCTCCCTGACTCTCTCCCACCACAGCCCAGCAGGAGGCCCAGCGGGCCCAATTCTTGGTAGAAAAAGCAAAGCAGGAACAGCGGCAGAAAATTGTGCAGGCCGAGGGTGAGGCCGAGGCTGCCAAGATGATATCCTTCTGCTGGAGAGATCTCAGCCCAGCCCCTAGGGCACCTGAGTTCCCCATTCTCCTTCATGGGCAGGCTGATGAGACTAAGGCGAATGCGACTCCGTGCTCTCTGGCCCTTGGCTCCTTGTTGGGGGTGGGGACTACAGATGAGATCTGAAATCTTAGTGGTAGTACCTGAGCCATGACTCCCCACTGTAAGGCCAGATCAATAGCATTGGTGGCCTTGCCTTCATTTCTGGTGCTGCCCCTAGTTCCTGGCAGCAGCCTGCAGGGAGGCCCACAGGTGGGGTCCACGGTAGGGCTGGGCACAAGCCACCTGAGCGCAACCTTGGATCTGACAGCCCAGAGGAGGACTGGAGCAAGGGAGTGTGGTAAGGACAGGGCCAGGGATTGAGACCTGCCCTTGCGTGTACCTTAACCCTCCTCACCTTGGAGAAGCACTGAGCAAGAACCCTGGCTACATCAAACTTCGCAAGATTCGAGCAGCCCAGAATATCTCCAAGACGGTGAGTGTGTCAGCCCAGCGTCTCTGATGGGGCTGCCTTGAGAAAGTGCTTTCAGTTAAGGCACATTGAGGTGAGGGAATTCGAACCTTGCTTGTTCCGGTTTCTACTCAGATTGGCTTCTCTGGCCGGCGCGGTGGCTCACGCATGTAATCCCCGCACTTTGGGAGGCCAAGGTGGGTGGATCACCTGAGGTCAGGAGTTCGAGACCAGCCTGGCCAACATGGTGAAACCCCATCTCTACTAAAAATACAAAAGATAATGAGCCCGCTGTGGTGGCGTTTAGCTATATTCCCAGCTACGCAGGAGGCTGAGGCAGGAGAATCACTTGAACCCAGGAGGCGGAAGTTGCAGTGAGCTGAGATCATGCCACTGCACTCCAGCCTGAGCAACAGAGCAAGACTCCGTCTCAAAAATAAATAAATAAAAAATTGGCTTCTCCGATACTCCTCCTGTCAAGAATGATTCCTCTGGGTTCCCTGACCTTTTGTTCTAATCATAGCTGCTGCTCAGCGCTCTGGATCCCTAAGTGCGAGCAGAAACCATGTGTTACTCATTGCTGCACCCCTGCCCTAATCTGCATGTGTTCCATGTTAAGTAGCTGCTGAATTGCAGGGGTCGGAATTGAGGTCTTTGCTTAATGCAAGCATCTGTCTTATTTCCTGCCCTGTAGATCGCCACATCACAGAATCGTATCTATCTCACAGCTGACAACCTTGTGCTGAACCTACAGGATGAAAGTTTCACCAGGTGAGAGATGTGGCCACACTGTGGGGTATCACCAAGAACGTGGGACCTGAGTCTGGTTGTTTGGGCTCTGGAGCCTGCTACAGCTATTCATATGGCTCAGAGACATTGAACCAAAATTAGAAAAGGGGGTGGTTGACAGTTTCTATCTTGCATCTCATAGGATTGATTTTATGAGATCAAATAGGATTATTCACATAAAAAGCACTTTAATTATAAAGTTTTCATCTAACCAAAAAGTGATGAAAGATGATACTCAGTTTTCTTACTCAAGAGCCCTCAAACTCCTCTGGTGAATGGAGGGATGTTAGGAAAGGAGATGAGAAATAGCAGTGGCCATGAGAACATGCCTCCTCCTTTCATGAGCCTGAGATTCCTGGCTGTCAACCCTGTTTATCTTTTCTCTTGGGAGCAAAGGAGGGTTCAAAGCTGAGTGGGGCCTGAAGCTGTCAATTAACATGTGCATTTCTCTTCTCTGTTTCTTGTTCATCTGGCGATCTGGCACCACAGGGGAAGGTAAGCTGTTGTTGCTTCTGTGGGGTCCTGCAGGCCACCTTCTCCAGTACCCGCCTCCTACCCTACCCCCTTTCCCACCTCCCCGAAGACAAACCCTCAATCAGGGTAGGAGGGTCGTAGAGGGAATGGCCTAGAGTGTCCTGCCTCTCACATTTATGTCCCCTAATAATGTCATTATCTATCTTTTTTTTCCTACAGTGACAGCCTCATCAAGGGTAAGAAATGAGCCTAGTCACCAAGAACTCCACCCCCAGAGGAAGTGGATCTGCTTCTCCAGTTTTTGAGGAGCCAGCCAGGGGTCCAGCACAGCCCTACCCCGCCCCAGTATCATGCGATGGTCCCCCACACCGGTTCCCTGAACCCCTCTTGGATTAAGGAAGACTGAAGACTAGCCCCTTTTCTGGGGAATTACTTTCCTCCTCCCTGTGTTAACTGGGGCTGTTGGGGACAGTGCGTGATTTCTCAGTGATTTCCTACAGTGTTGTTCCCTCCCTCAAGGCTGGGAGGAGATAAACACCAACCCAGGAATTCTCAATAAATTTTTATTACTTAACCTGAAGTCAAGGCTTCACGTGTTCATGAAC\")\n",
    "print(my_seq)\n",
    "tamanho_seq = len(my_seq)\n",
    "print(tamanho_seq)"
   ]
  },
  {
   "cell_type": "code",
   "execution_count": 5,
   "metadata": {},
   "outputs": [
    {
     "name": "stdout",
     "output_type": "stream",
     "text": [
      "A:  22.627602727105213\n",
      "T:  24.304403906393958\n",
      "G:  25.7785148332412\n",
      "C:  27.289478533259626\n"
     ]
    }
   ],
   "source": [
    "#Percentagem de cada nucleótido na sequencia\n",
    "A = (my_seq.count(\"A\")/len(my_seq))*100\n",
    "print(\"A: \",A)\n",
    "T = (my_seq.count(\"T\")/len(my_seq))*100\n",
    "print(\"T: \",T)\n",
    "G = (my_seq.count(\"G\")/len(my_seq))*100\n",
    "print(\"G: \",G)\n",
    "C = (my_seq.count(\"C\")/len(my_seq))*100\n",
    "print(\"C: \",C)"
   ]
  },
  {
   "cell_type": "code",
   "execution_count": 6,
   "metadata": {},
   "outputs": [
    {
     "data": {
      "text/plain": [
       "SeqRecord(seq=Seq('TCCGTATGCGCGATTCCTGTGCGCGAAGTTCGGGTCCGTAGTGGGCTAAGGGGG...AAC'), id='NC_000012.12', name='NC_000012', description='Homo sapiens chromosome 12, GRCh38.p13 Primary Assembly', dbxrefs=['BioProject:PRJNA168', 'Assembly:GCF_000001405.39'])"
      ]
     },
     "execution_count": 6,
     "metadata": {},
     "output_type": "execute_result"
    }
   ],
   "source": [
    "phb2gb = SeqIO.read(\"C:/Users/Zé Freitas/Desktop/Mestrado/Labs_Bioinf/Trabalho prático/PHB2/sequence.gb\",\"genbank\")\n",
    "phb2gb"
   ]
  },
  {
   "cell_type": "code",
   "execution_count": 7,
   "metadata": {},
   "outputs": [
    {
     "data": {
      "text/plain": [
       "['Eukaryota',\n",
       " 'Metazoa',\n",
       " 'Chordata',\n",
       " 'Craniata',\n",
       " 'Vertebrata',\n",
       " 'Euteleostomi',\n",
       " 'Mammalia',\n",
       " 'Eutheria',\n",
       " 'Euarchontoglires',\n",
       " 'Primates',\n",
       " 'Haplorrhini',\n",
       " 'Catarrhini',\n",
       " 'Hominidae',\n",
       " 'Homo']"
      ]
     },
     "execution_count": 7,
     "metadata": {},
     "output_type": "execute_result"
    }
   ],
   "source": [
    "id = phb2gb.id\n",
    "id\n",
    "anotacoes = phb2gb.annotations\n",
    "anotacoes\n",
    "organismo = phb2gb.annotations[\"organism\"]\n",
    "organismo\n",
    "taxonomia = phb2gb.annotations[\"taxonomy\"]\n",
    "taxonomia"
   ]
  },
  {
   "cell_type": "code",
   "execution_count": 8,
   "metadata": {},
   "outputs": [
    {
     "name": "stdout",
     "output_type": "stream",
     "text": [
      "type: source\n",
      "location: [0:5427](+)\n",
      "qualifiers:\n",
      "    Key: chromosome, Value: ['12']\n",
      "    Key: db_xref, Value: ['taxon:9606']\n",
      "    Key: mol_type, Value: ['genomic DNA']\n",
      "    Key: organism, Value: ['Homo sapiens']\n",
      "\n",
      "type: gene\n",
      "location: [0:5427](+)\n",
      "qualifiers:\n",
      "    Key: db_xref, Value: ['GeneID:11331', 'HGNC:HGNC:30306', 'MIM:610704']\n",
      "    Key: gene, Value: ['PHB2']\n",
      "    Key: gene_synonym, Value: ['BAP; Bap37; BCAP37; hBAP; p22; PNAS-141; REA']\n",
      "    Key: note, Value: ['prohibitin 2; Derived by automated computational analysis using gene prediction method: BestRefSeq,Gnomon.']\n",
      "\n",
      "type: mRNA\n",
      "location: join{[89:337](+), [473:558](+), [1176:1256](+), [2158:2343](+), [2732:2862](+), [2974:3078](+), [3505:3583](+), [4253:4330](+), [4837:4843](+), [5041:5427](+)}\n",
      "qualifiers:\n",
      "    Key: db_xref, Value: ['Ensembl:ENST00000535923.6', 'GeneID:11331', 'HGNC:HGNC:30306', 'MIM:610704']\n",
      "    Key: gene, Value: ['PHB2']\n",
      "    Key: gene_synonym, Value: ['BAP; Bap37; BCAP37; hBAP; p22; PNAS-141; REA']\n",
      "    Key: note, Value: ['Derived by automated computational analysis using gene prediction method: BestRefSeq.']\n",
      "    Key: product, Value: ['prohibitin 2, transcript variant 1']\n",
      "    Key: transcript_id, Value: ['NM_001144831.2']\n",
      "\n",
      "type: mRNA\n",
      "location: join{[0:337](+), [473:558](+), [1176:1256](+), [2158:2343](+), [2732:2862](+), [3515:3583](+), [4253:4330](+), [4837:4843](+), [5041:5402](+)}\n",
      "qualifiers:\n",
      "    Key: db_xref, Value: ['GeneID:11331', 'HGNC:HGNC:30306', 'MIM:610704']\n",
      "    Key: gene, Value: ['PHB2']\n",
      "    Key: gene_synonym, Value: ['BAP; Bap37; BCAP37; hBAP; p22; PNAS-141; REA']\n",
      "    Key: note, Value: ['Derived by automated computational analysis using gene prediction method: BestRefSeq.']\n",
      "    Key: product, Value: ['prohibitin 2, transcript variant 3']\n",
      "    Key: transcript_id, Value: ['NM_001267700.1']\n",
      "\n",
      "type: misc_RNA\n",
      "location: join{[37:337](+), [473:558](+), [1176:1256](+), [2158:2343](+), [2732:2862](+), [3418:3583](+), [4253:4330](+), [4837:4843](+), [5041:5402](+)}\n",
      "qualifiers:\n",
      "    Key: db_xref, Value: ['GeneID:11331', 'HGNC:HGNC:30306', 'MIM:610704']\n",
      "    Key: gene, Value: ['PHB2']\n",
      "    Key: gene_synonym, Value: ['BAP; Bap37; BCAP37; hBAP; p22; PNAS-141; REA']\n",
      "    Key: note, Value: ['Derived by automated computational analysis using gene prediction method: Gnomon. Supporting evidence includes similarity to: 399 ESTs, 31 long SRA reads, and 100% coverage of the annotated genomic feature by RNAseq alignments, including 104 samples with support for all annotated introns']\n",
      "    Key: product, Value: ['prohibitin 2, transcript variant X1']\n",
      "    Key: transcript_id, Value: ['XR_242980.3']\n",
      "\n",
      "type: CDS\n",
      "location: join{[210:337](+), [473:558](+), [1176:1256](+), [2158:2343](+), [2732:2862](+), [3515:3583](+), [4253:4330](+), [4837:4843](+), [5041:5069](+)}\n",
      "qualifiers:\n",
      "    Key: codon_start, Value: ['1']\n",
      "    Key: db_xref, Value: ['CCDS:CCDS58207.1', 'GeneID:11331', 'HGNC:HGNC:30306', 'MIM:610704']\n",
      "    Key: gene, Value: ['PHB2']\n",
      "    Key: gene_synonym, Value: ['BAP; Bap37; BCAP37; hBAP; p22; PNAS-141; REA']\n",
      "    Key: note, Value: ['isoform 3 is encoded by transcript variant 3; Derived by automated computational analysis using gene prediction method: BestRefSeq.']\n",
      "    Key: product, Value: ['prohibitin-2 isoform 3']\n",
      "    Key: protein_id, Value: ['NP_001254629.1']\n",
      "    Key: translation, Value: ['MAQNLKDLAGRLPAGPRGMGTALKLLLGAGAVAYGVRESVFTVEGGHRAIFFNRIGGVQQDTILAEGLHFRIPWFQYPIIYDIRARPRKISSPTGSKDLQMVNISLRVLSRPNAQELPSMYQRLGLDYEERVLPSIVNEVLKSVVAKFNASQLITQRAQVSLLIRRELTERAKDFSLILDDVAITELSFSREYTAAVEAKQVALSKNPGYIKLRKIRAAQNISKTIATSQNRIYLTADNLVLNLQDESFTRGSDSLIKGKK']\n",
      "\n",
      "type: CDS\n",
      "location: join{[210:337](+), [473:558](+), [1176:1256](+), [2158:2343](+), [2732:2862](+), [2974:3078](+), [3505:3583](+), [4253:4330](+), [4837:4843](+), [5041:5069](+)}\n",
      "qualifiers:\n",
      "    Key: codon_start, Value: ['1']\n",
      "    Key: db_xref, Value: ['CCDS:CCDS53741.1', 'Ensembl:ENSP00000441875.1', 'GeneID:11331', 'HGNC:HGNC:30306', 'MIM:610704']\n",
      "    Key: gene, Value: ['PHB2']\n",
      "    Key: gene_synonym, Value: ['BAP; Bap37; BCAP37; hBAP; p22; PNAS-141; REA']\n",
      "    Key: note, Value: ['isoform 1 is encoded by transcript variant 1; Derived by automated computational analysis using gene prediction method: BestRefSeq.']\n",
      "    Key: product, Value: ['prohibitin-2 isoform 1']\n",
      "    Key: protein_id, Value: ['NP_001138303.1']\n",
      "    Key: translation, Value: ['MAQNLKDLAGRLPAGPRGMGTALKLLLGAGAVAYGVRESVFTVEGGHRAIFFNRIGGVQQDTILAEGLHFRIPWFQYPIIYDIRARPRKISSPTGSKDLQMVNISLRVLSRPNAQELPSMYQRLGLDYEERVLPSIVNEVLKSVVAKFNASQLITQRAQVSLLIRRELTERAKDFSLILDDVAITELSFSREYTAAVEAKQVAQQEAQRAQFLVEKAKQEQRQKIVQAEGEAEAAKMLGEALSKNPGYIKLRKIRAAQNISKTIATSQNRIYLTADNLVLNLQDESFTRGSDSLIKGKK']\n",
      "\n",
      "type: misc_feature\n",
      "location: [213:216](+)\n",
      "qualifiers:\n",
      "    Key: gene, Value: ['PHB2']\n",
      "    Key: gene_synonym, Value: ['BAP; Bap37; BCAP37; hBAP; p22; PNAS-141; REA']\n",
      "    Key: note, Value: ['N-acetylalanine. /evidence=ECO:0000244|PubMed:22814378, ECO:0000269|Ref.8; propagated from UniProtKB/Swiss-Prot (Q99623.2); acetylation site']\n",
      "\n",
      "type: misc_feature\n",
      "location: join{[264:337](+), [473:493](+)}\n",
      "qualifiers:\n",
      "    Key: gene, Value: ['PHB2']\n",
      "    Key: gene_synonym, Value: ['BAP; Bap37; BCAP37; hBAP; p22; PNAS-141; REA']\n",
      "    Key: note, Value: ['propagated from UniProtKB/Swiss-Prot (Q99623.2); Region: Necessary for transcriptional repression. /evidence=ECO:0000269|PubMed:10359819']\n",
      "\n",
      "type: misc_feature\n",
      "location: [2226:2238](+)\n",
      "qualifiers:\n",
      "    Key: gene, Value: ['PHB2']\n",
      "    Key: gene_synonym, Value: ['BAP; Bap37; BCAP37; hBAP; p22; PNAS-141; REA']\n",
      "    Key: note, Value: ['propagated from UniProtKB/Swiss-Prot (Q99623.2); Region: LC3-interaction region. /evidence=ECO:0000269|PubMed:28017329']\n",
      "\n",
      "type: misc_feature\n",
      "location: [2247:2250](+)\n",
      "qualifiers:\n",
      "    Key: gene, Value: ['PHB2']\n",
      "    Key: gene_synonym, Value: ['BAP; Bap37; BCAP37; hBAP; p22; PNAS-141; REA']\n",
      "    Key: note, Value: ['Phosphotyrosine. /evidence=ECO:0000244|PubMed:15592455; propagated from UniProtKB/Swiss-Prot (Q99623.2); phosphorylation site']\n",
      "\n",
      "type: misc_feature\n",
      "location: [2304:2307](+)\n",
      "qualifiers:\n",
      "    Key: gene, Value: ['PHB2']\n",
      "    Key: gene_synonym, Value: ['BAP; Bap37; BCAP37; hBAP; p22; PNAS-141; REA']\n",
      "    Key: note, Value: ['N6-acetyllysine. /evidence=ECO:0000250|UniProtKB:O35129; propagated from UniProtKB/Swiss-Prot (Q99623.2); acetylation site']\n",
      "\n",
      "type: misc_feature\n",
      "location: join{[2313:2343](+), [2732:2777](+)}\n",
      "qualifiers:\n",
      "    Key: gene, Value: ['PHB2']\n",
      "    Key: gene_synonym, Value: ['BAP; Bap37; BCAP37; hBAP; p22; PNAS-141; REA']\n",
      "    Key: note, Value: ['propagated from UniProtKB/Swiss-Prot (Q99623.2); Region: Necessary for transcriptional repression. /evidence=ECO:0000269|PubMed:10359819']\n",
      "\n",
      "type: misc_feature\n",
      "location: [2316:2319](+)\n",
      "qualifiers:\n",
      "    Key: gene, Value: ['PHB2']\n",
      "    Key: gene_synonym, Value: ['BAP; Bap37; BCAP37; hBAP; p22; PNAS-141; REA']\n",
      "    Key: note, Value: ['Phosphoserine. /evidence=ECO:0000244|PubMed:23186163; propagated from UniProtKB/Swiss-Prot (Q99623.2); phosphorylation site']\n",
      "\n",
      "type: misc_feature\n",
      "location: [2852:2855](+)\n",
      "qualifiers:\n",
      "    Key: gene, Value: ['PHB2']\n",
      "    Key: gene_synonym, Value: ['BAP; Bap37; BCAP37; hBAP; p22; PNAS-141; REA']\n",
      "    Key: note, Value: ['N6-acetyllysine. /evidence=ECO:0000250|UniProtKB:O35129; propagated from UniProtKB/Swiss-Prot (Q99623.2); acetylation site']\n",
      "\n",
      "type: misc_feature\n",
      "location: [3072:3075](+)\n",
      "qualifiers:\n",
      "    Key: gene, Value: ['PHB2']\n",
      "    Key: gene_synonym, Value: ['BAP; Bap37; BCAP37; hBAP; p22; PNAS-141; REA']\n",
      "    Key: note, Value: ['N6-acetyllysine. /evidence=ECO:0000250|UniProtKB:O35129; propagated from UniProtKB/Swiss-Prot (Q99623.2); acetylation site']\n",
      "\n",
      "type: misc_feature\n",
      "location: [3541:3544](+)\n",
      "qualifiers:\n",
      "    Key: gene, Value: ['PHB2']\n",
      "    Key: gene_synonym, Value: ['BAP; Bap37; BCAP37; hBAP; p22; PNAS-141; REA']\n",
      "    Key: note, Value: ['N6-acetyllysine. /evidence=ECO:0000244|PubMed:19608861; propagated from UniProtKB/Swiss-Prot (Q99623.2); acetylation site']\n",
      "\n",
      "type: misc_feature\n",
      "location: [3577:3580](+)\n",
      "qualifiers:\n",
      "    Key: gene, Value: ['PHB2']\n",
      "    Key: gene_synonym, Value: ['BAP; Bap37; BCAP37; hBAP; p22; PNAS-141; REA']\n",
      "    Key: note, Value: ['N6-acetyllysine. /evidence=ECO:0000250|UniProtKB:O35129; propagated from UniProtKB/Swiss-Prot (Q99623.2); acetylation site']\n",
      "\n",
      "type: gene\n",
      "location: [3147:3417](+)\n",
      "qualifiers:\n",
      "    Key: db_xref, Value: ['GeneID:677777', 'HGNC:HGNC:32569', 'MIM:615642']\n",
      "    Key: gene, Value: ['SCARNA12']\n",
      "    Key: gene_synonym, Value: ['U89']\n",
      "    Key: note, Value: ['small Cajal body-specific RNA 12; Derived by automated computational analysis using gene prediction method: BestRefSeq.']\n",
      "\n",
      "type: ncRNA\n",
      "location: [3147:3417](+)\n",
      "qualifiers:\n",
      "    Key: db_xref, Value: ['GeneID:677777', 'HGNC:HGNC:32569', 'MIM:615642']\n",
      "    Key: gene, Value: ['SCARNA12']\n",
      "    Key: gene_synonym, Value: ['U89']\n",
      "    Key: ncRNA_class, Value: ['guide_RNA']\n",
      "    Key: note, Value: ['Derived by automated computational analysis using gene prediction method: BestRefSeq.']\n",
      "    Key: product, Value: ['small Cajal body-specific RNA 12']\n",
      "    Key: transcript_id, Value: ['NR_003010.1']\n",
      "\n"
     ]
    }
   ],
   "source": [
    "#Listagem de features\n",
    "for feat in phb2gb.features:\n",
    "    print(feat)"
   ]
  },
  {
   "cell_type": "code",
   "execution_count": 9,
   "metadata": {},
   "outputs": [
    {
     "name": "stdout",
     "output_type": "stream",
     "text": [
      "type: source\n",
      "location: [0:5427](+)\n",
      "qualifiers:\n",
      "    Key: chromosome, Value: ['12']\n",
      "    Key: db_xref, Value: ['taxon:9606']\n",
      "    Key: mol_type, Value: ['genomic DNA']\n",
      "    Key: organism, Value: ['Homo sapiens']\n",
      "\n",
      "type: gene\n",
      "location: [0:5427](+)\n",
      "qualifiers:\n",
      "    Key: db_xref, Value: ['GeneID:11331', 'HGNC:HGNC:30306', 'MIM:610704']\n",
      "    Key: gene, Value: ['PHB2']\n",
      "    Key: gene_synonym, Value: ['BAP; Bap37; BCAP37; hBAP; p22; PNAS-141; REA']\n",
      "    Key: note, Value: ['prohibitin 2; Derived by automated computational analysis using gene prediction method: BestRefSeq,Gnomon.']\n",
      "\n",
      "type: CDS\n",
      "location: join{[210:337](+), [473:558](+), [1176:1256](+), [2158:2343](+), [2732:2862](+), [3515:3583](+), [4253:4330](+), [4837:4843](+), [5041:5069](+)}\n",
      "qualifiers:\n",
      "    Key: codon_start, Value: ['1']\n",
      "    Key: db_xref, Value: ['CCDS:CCDS58207.1', 'GeneID:11331', 'HGNC:HGNC:30306', 'MIM:610704']\n",
      "    Key: gene, Value: ['PHB2']\n",
      "    Key: gene_synonym, Value: ['BAP; Bap37; BCAP37; hBAP; p22; PNAS-141; REA']\n",
      "    Key: note, Value: ['isoform 3 is encoded by transcript variant 3; Derived by automated computational analysis using gene prediction method: BestRefSeq.']\n",
      "    Key: product, Value: ['prohibitin-2 isoform 3']\n",
      "    Key: protein_id, Value: ['NP_001254629.1']\n",
      "    Key: translation, Value: ['MAQNLKDLAGRLPAGPRGMGTALKLLLGAGAVAYGVRESVFTVEGGHRAIFFNRIGGVQQDTILAEGLHFRIPWFQYPIIYDIRARPRKISSPTGSKDLQMVNISLRVLSRPNAQELPSMYQRLGLDYEERVLPSIVNEVLKSVVAKFNASQLITQRAQVSLLIRRELTERAKDFSLILDDVAITELSFSREYTAAVEAKQVALSKNPGYIKLRKIRAAQNISKTIATSQNRIYLTADNLVLNLQDESFTRGSDSLIKGKK']\n",
      "\n",
      "type: CDS\n",
      "location: join{[210:337](+), [473:558](+), [1176:1256](+), [2158:2343](+), [2732:2862](+), [2974:3078](+), [3505:3583](+), [4253:4330](+), [4837:4843](+), [5041:5069](+)}\n",
      "qualifiers:\n",
      "    Key: codon_start, Value: ['1']\n",
      "    Key: db_xref, Value: ['CCDS:CCDS53741.1', 'Ensembl:ENSP00000441875.1', 'GeneID:11331', 'HGNC:HGNC:30306', 'MIM:610704']\n",
      "    Key: gene, Value: ['PHB2']\n",
      "    Key: gene_synonym, Value: ['BAP; Bap37; BCAP37; hBAP; p22; PNAS-141; REA']\n",
      "    Key: note, Value: ['isoform 1 is encoded by transcript variant 1; Derived by automated computational analysis using gene prediction method: BestRefSeq.']\n",
      "    Key: product, Value: ['prohibitin-2 isoform 1']\n",
      "    Key: protein_id, Value: ['NP_001138303.1']\n",
      "    Key: translation, Value: ['MAQNLKDLAGRLPAGPRGMGTALKLLLGAGAVAYGVRESVFTVEGGHRAIFFNRIGGVQQDTILAEGLHFRIPWFQYPIIYDIRARPRKISSPTGSKDLQMVNISLRVLSRPNAQELPSMYQRLGLDYEERVLPSIVNEVLKSVVAKFNASQLITQRAQVSLLIRRELTERAKDFSLILDDVAITELSFSREYTAAVEAKQVAQQEAQRAQFLVEKAKQEQRQKIVQAEGEAEAAKMLGEALSKNPGYIKLRKIRAAQNISKTIATSQNRIYLTADNLVLNLQDESFTRGSDSLIKGKK']\n",
      "\n",
      "type: gene\n",
      "location: [3147:3417](+)\n",
      "qualifiers:\n",
      "    Key: db_xref, Value: ['GeneID:677777', 'HGNC:HGNC:32569', 'MIM:615642']\n",
      "    Key: gene, Value: ['SCARNA12']\n",
      "    Key: gene_synonym, Value: ['U89']\n",
      "    Key: note, Value: ['small Cajal body-specific RNA 12; Derived by automated computational analysis using gene prediction method: BestRefSeq.']\n",
      "\n"
     ]
    }
   ],
   "source": [
    "#Listagem de features relevantes para a codificação da proteina\n",
    "for feat in phb2gb.features:\n",
    "    if feat.type == \"source\" or feat.type == \"gene\" or feat.type == \"CDS\":\n",
    "        print(feat)"
   ]
  },
  {
   "cell_type": "code",
   "execution_count": null,
   "metadata": {},
   "outputs": [],
   "source": [
    "#BLAST de nucleotidos, usando a base de dados nt\n",
    "blast = NCBIWWW.qblast(\"blastn\", \"nt\", phb2fa.format(\"fasta\"))\n",
    "\n",
    "save_file = open(\"my_blast_phb2.xml\",\"w\")\n",
    "save_file.write(blast.read())\n",
    "save_file.close()\n",
    "blast.close()"
   ]
  },
  {
   "cell_type": "code",
   "execution_count": null,
   "metadata": {},
   "outputs": [],
   "source": [
    "#leitura dos resultados obtidos do BLASTn\n",
    "result = open(\"my_blast_phb.xml\")\n",
    "blast_records = NCBIXML.read(result)\n",
    "blast_records\n",
    "\n",
    "E_VALUE_THRESH = 0.05\n",
    "for blast_record in blast_records:\n",
    "    for alignment in blast_record.alignments:\n",
    "        for hsp in alignment.hsps:\n",
    "                if hsp.expect < E_VALUE_THRESH:\n",
    "                    print ('****Alignment****')\n",
    "                    print ('sequence:', alignment.title)\n",
    "                    print ('length:', alignment.length)\n",
    "                    print ('e value:', hsp.expect)\n",
    "                    \n",
    "result.close()"
   ]
  }
 ],
 "metadata": {
  "kernelspec": {
   "display_name": "Python 3",
   "language": "python",
   "name": "python3"
  },
  "language_info": {
   "codemirror_mode": {
    "name": "ipython",
    "version": 3
   },
   "file_extension": ".py",
   "mimetype": "text/x-python",
   "name": "python",
   "nbconvert_exporter": "python",
   "pygments_lexer": "ipython3",
   "version": "3.8.3"
  }
 },
 "nbformat": 4,
 "nbformat_minor": 4
}
