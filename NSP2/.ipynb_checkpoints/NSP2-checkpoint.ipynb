{
 "cells": [
  {
   "cell_type": "code",
   "execution_count": 1,
   "metadata": {},
   "outputs": [],
   "source": [
    "from Bio.Seq import Seq\n",
    "from Bio import SeqIO\n",
    "from Bio.SeqRecord import SeqRecord\n",
    "from Bio.SeqFeature import SeqFeature, FeatureLocation\n",
    "from Bio.Blast import NCBIWWW, NCBIXML\n",
    "from Bio import SwissProt\n",
    "from urllib.request import urlopen"
   ]
  },
  {
   "cell_type": "code",
   "execution_count": 2,
   "metadata": {
    "scrolled": false
   },
   "outputs": [
    {
     "data": {
      "text/plain": [
       "SeqRecord(seq=Seq('AYTRYVDNNFCGPDGYPLECIKDLLARAGKASCTLSEQLDFIDTKRGVYCCREH...KGG'), id='YP_009725298.1', name='YP_009725298.1', description='YP_009725298.1 nsp2 [Severe acute respiratory syndrome coronavirus 2]', dbxrefs=[])"
      ]
     },
     "execution_count": 2,
     "metadata": {},
     "output_type": "execute_result"
    }
   ],
   "source": [
    "nsp2 = SeqIO.read(open(\"C:/Users/Zé Freitas/Desktop/Mestrado/Labs_Bioinf/Trabalho prático/scripts/Labs_Bioinf/NSP2/nsp2.fasta\"),\"fasta\")\n",
    "nsp2"
   ]
  },
  {
   "cell_type": "code",
   "execution_count": null,
   "metadata": {},
   "outputs": [],
   "source": [
    "#Abrir ficheiro SwissProt localmente FASTA\n",
    "ficheiro = SeqIO.read(open(\"C:/Users/Zé Freitas/Desktop/Mestrado/Labs_Bioinf/Trabalho prático/scripts/Labs_Bioinf/NSP2/M20210105A94466D2655679D1FD8953E075198DA82BA1B88.fasta\"),\"fasta\")\n",
    "ficheiro "
   ]
  },
  {
   "cell_type": "code",
   "execution_count": null,
   "metadata": {},
   "outputs": [],
   "source": [
    "#Abrir ficheiro SwissProt localmente full infor\n",
    "ficheiro = open(\"C:/Users/Zé Freitas/Desktop/Mestrado/Labs_Bioinf/Trabalho prático/scripts/Labs_Bioinf/NSP2/uniprot-yourlist_M20210102E5A08BB0B2D1C45B0C7BC3B55FD265560A91A6U.txt\")\n",
    "ficheiro\n",
    "\n",
    "record = SwissProt.read(ficheiro)\n",
    "print(record.description)\n",
    "print(record.references)\n",
    "\n",
    "for ref in record.references:\n",
    "    print(\"authors:\", ref.authors)\n",
    "    print(\"title:\", ref.title)\n",
    "    print(record.organism_classification)"
   ]
  },
  {
   "cell_type": "code",
   "execution_count": null,
   "metadata": {},
   "outputs": [],
   "source": [
    "#Abrir ficheiro SwissProt pela internet\n",
    "url = \"https://www.uniprot.org/uniprot/P0DTC1.txt\"\n",
    "handle = urlopen(url)\n",
    "handle \n",
    "\n",
    "recorde = SwissProt.read(handle)\n",
    "recorde\n",
    "print(recorde.description)\n",
    "print(recorde.references)"
   ]
  },
  {
   "cell_type": "code",
   "execution_count": 3,
   "metadata": {},
   "outputs": [],
   "source": [
    "#BLAST de proteinas \n",
    "blast = NCBIWWW.qblast(\"blastp\", \"nr\", nsp2.format(\"fasta\"))\n",
    "\n",
    "save_file = open(\"my_blast_nsp2.xml\",\"w\")\n",
    "save_file.write(blast.read())\n",
    "save_file.close()\n",
    "blast.close()"
   ]
  },
  {
   "cell_type": "code",
   "execution_count": 4,
   "metadata": {},
   "outputs": [
    {
     "data": {
      "text/plain": [
       "<Bio.Blast.Record.Blast at 0x2449ed73430>"
      ]
     },
     "execution_count": 4,
     "metadata": {},
     "output_type": "execute_result"
    }
   ],
   "source": [
    "#Leitura dos resultados do BLASTp\n",
    "result = open(\"my_blast_nsp2.xml\")\n",
    "blast_records = NCBIXML.read(result)\n",
    "blast_records\n",
    "\n",
    "E_VALUE_THRESH = 0.05\n",
    "for blast_record in blast_records:\n",
    "    for alignment in blast_record.alignments:\n",
    "        for hsp in alignment.hsps:\n",
    "                if hsp.expect < E_VALUE_THRESH:\n",
    "                    print ('****Alignment****')\n",
    "                    print ('sequence:', alignment.title)\n",
    "                    print ('length:', alignment.length)\n",
    "                    print ('e value:', hsp.expect)\n",
    "result.close()"
   ]
  },
  {
   "cell_type": "code",
   "execution_count": null,
   "metadata": {},
   "outputs": [],
   "source": []
  }
 ],
 "metadata": {
  "kernelspec": {
   "display_name": "Python 3",
   "language": "python",
   "name": "python3"
  },
  "language_info": {
   "codemirror_mode": {
    "name": "ipython",
    "version": 3
   },
   "file_extension": ".py",
   "mimetype": "text/x-python",
   "name": "python",
   "nbconvert_exporter": "python",
   "pygments_lexer": "ipython3",
   "version": "3.8.3"
  }
 },
 "nbformat": 4,
 "nbformat_minor": 4
}
