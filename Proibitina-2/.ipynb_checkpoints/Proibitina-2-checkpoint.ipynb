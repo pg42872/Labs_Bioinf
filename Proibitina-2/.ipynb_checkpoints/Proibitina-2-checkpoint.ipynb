{
 "cells": [
  {
   "cell_type": "code",
   "execution_count": 1,
   "metadata": {},
   "outputs": [],
   "source": [
    "from Bio.Seq import Seq\n",
    "from Bio import SeqIO\n",
    "from Bio.SeqRecord import SeqRecord\n",
    "from Bio.SeqFeature import SeqFeature, FeatureLocation\n",
    "from Bio.Blast import NCBIWWW, NCBIXML\n",
    "from Bio import SwissProt\n",
    "from urllib.request import urlopen"
   ]
  },
  {
   "cell_type": "code",
   "execution_count": 2,
   "metadata": {},
   "outputs": [
    {
     "data": {
      "text/plain": [
       "SeqRecord(seq=Seq('MAQNLKDLAGRLPAGPRGMGTALKLLLGAGAVAYGVRESVFTVEGGHRAIFFNR...GKK'), id='NP_001138303.1', name='NP_001138303.1', description='NP_001138303.1 prohibitin-2 isoform 1 [Homo sapiens]', dbxrefs=[])"
      ]
     },
     "execution_count": 2,
     "metadata": {},
     "output_type": "execute_result"
    }
   ],
   "source": [
    "#Proibitina-2\n",
    "#Ficheiro NCBI local\n",
    "\n",
    "pro2 = SeqIO.read(open(\"C:/Users/Zé Freitas/Desktop/Mestrado/Labs_Bioinf/Trabalho prático/scripts/Labs_Bioinf/Proibitina-2/sequence.fasta\"),\"fasta\")\n",
    "pro2"
   ]
  },
  {
   "cell_type": "code",
   "execution_count": 3,
   "metadata": {},
   "outputs": [
    {
     "data": {
      "text/plain": [
       "SeqRecord(seq=Seq('MAQNLKDLAGRLPAGPRGMGTALKLLLGAGAVAYGVRESVFTVEGGHRAIFFNR...GKK'), id='sp|Q99623|PHB2_HUMAN', name='sp|Q99623|PHB2_HUMAN', description='sp|Q99623|PHB2_HUMAN Prohibitin-2 OS=Homo sapiens OX=9606 GN=PHB2 PE=1 SV=2', dbxrefs=[])"
      ]
     },
     "execution_count": 3,
     "metadata": {},
     "output_type": "execute_result"
    }
   ],
   "source": [
    "#Abrir ficheiro SwissProt localmente FASTA\n",
    "ficheiro = SeqIO.read(open(\"C:/Users/Zé Freitas/Desktop/Mestrado/Labs_Bioinf/Trabalho prático/scripts/Labs_Bioinf/Proibitina-2/uniprot-yourlist_M20210105A94466D2655679D1FD8953E075198DA82BA1F57.fasta\"),\"fasta\")\n",
    "ficheiro "
   ]
  },
  {
   "cell_type": "code",
   "execution_count": 4,
   "metadata": {},
   "outputs": [
    {
     "name": "stdout",
     "output_type": "stream",
     "text": [
      "RecName: Full=Prohibitin-2; AltName: Full=B-cell receptor-associated protein BAP37; AltName: Full=D-prohibitin; AltName: Full=Repressor of estrogen receptor activity;\n",
      "[<Bio.SwissProt.Reference object at 0x0000026F04A14490>, <Bio.SwissProt.Reference object at 0x0000026F04A0A430>, <Bio.SwissProt.Reference object at 0x0000026F04A19340>, <Bio.SwissProt.Reference object at 0x0000026F049F9D90>, <Bio.SwissProt.Reference object at 0x0000026F0611D2E0>, <Bio.SwissProt.Reference object at 0x0000026F0611D3D0>, <Bio.SwissProt.Reference object at 0x0000026F0611D340>, <Bio.SwissProt.Reference object at 0x0000026F0611D310>, <Bio.SwissProt.Reference object at 0x0000026F0611D370>, <Bio.SwissProt.Reference object at 0x0000026F0611D3A0>, <Bio.SwissProt.Reference object at 0x0000026F0611D400>, <Bio.SwissProt.Reference object at 0x0000026F0611D430>, <Bio.SwissProt.Reference object at 0x0000026F0611D460>, <Bio.SwissProt.Reference object at 0x0000026F0611D490>, <Bio.SwissProt.Reference object at 0x0000026F0611D4C0>, <Bio.SwissProt.Reference object at 0x0000026F0611D4F0>, <Bio.SwissProt.Reference object at 0x0000026F0611D520>, <Bio.SwissProt.Reference object at 0x0000026F0611D550>, <Bio.SwissProt.Reference object at 0x0000026F0611D580>, <Bio.SwissProt.Reference object at 0x0000026F0611D5E0>, <Bio.SwissProt.Reference object at 0x0000026F0611D640>, <Bio.SwissProt.Reference object at 0x0000026F0611D670>, <Bio.SwissProt.Reference object at 0x0000026F0611D6A0>, <Bio.SwissProt.Reference object at 0x0000026F0611D6D0>, <Bio.SwissProt.Reference object at 0x0000026F0611D700>, <Bio.SwissProt.Reference object at 0x0000026F0611D730>, <Bio.SwissProt.Reference object at 0x0000026F0611D760>, <Bio.SwissProt.Reference object at 0x0000026F0611D790>, <Bio.SwissProt.Reference object at 0x0000026F0611D7C0>, <Bio.SwissProt.Reference object at 0x0000026F0611D7F0>]\n",
      "authors: Ansari-Lari M.A., Shen Y., Muzny D.M., Lee W., Gibbs R.A.\n",
      "title: Large-scale sequencing in human chromosome 12p13: experimental and computational gene structure determination.\n",
      "['Eukaryota', 'Metazoa', 'Chordata', 'Craniata', 'Vertebrata', 'Euteleostomi', 'Mammalia', 'Eutheria', 'Euarchontoglires', 'Primates', 'Haplorrhini', 'Catarrhini', 'Hominidae', 'Homo']\n",
      "authors: Montano M.M., Ekena K., Delage-Mourroux R., Chang W., Martini P., Katzenellenbogen B.S.\n",
      "title: An estrogen receptor-selective coregulator that potentiates the effectiveness of antiestrogens and represses the activity of estrogens.\n",
      "['Eukaryota', 'Metazoa', 'Chordata', 'Craniata', 'Vertebrata', 'Euteleostomi', 'Mammalia', 'Eutheria', 'Euarchontoglires', 'Primates', 'Haplorrhini', 'Catarrhini', 'Hominidae', 'Homo']\n",
      "authors: Zhang W., Wan T., Chen T., Cao X.\n",
      "title: Identification of a novel D-prohibitin from dendritic cells.\n",
      "['Eukaryota', 'Metazoa', 'Chordata', 'Craniata', 'Vertebrata', 'Euteleostomi', 'Mammalia', 'Eutheria', 'Euarchontoglires', 'Primates', 'Haplorrhini', 'Catarrhini', 'Hominidae', 'Homo']\n",
      "authors: Hu R.-M., Han Z.-G., Song H.-D., Peng Y.-D., Huang Q.-H., Ren S.-X., Gu Y.-J., Huang C.-H., Li Y.-B., Jiang C.-L., Fu G., Zhang Q.-H., Gu B.-W., Dai M., Mao Y.-F., Gao G.-F., Rong R., Ye M., Zhou J., Xu S.-H., Gu J., Shi J.-X., Jin W.-R., Zhang C.-K., Wu T.-M., Huang G.-Y., Chen Z., Chen M.-D., Chen J.-L.\n",
      "title: Gene expression profiling in the human hypothalamus-pituitary-adrenal axis and full-length cDNA cloning.\n",
      "['Eukaryota', 'Metazoa', 'Chordata', 'Craniata', 'Vertebrata', 'Euteleostomi', 'Mammalia', 'Eutheria', 'Euarchontoglires', 'Primates', 'Haplorrhini', 'Catarrhini', 'Hominidae', 'Homo']\n",
      "authors: Ota T., Suzuki Y., Nishikawa T., Otsuki T., Sugiyama T., Irie R., Wakamatsu A., Hayashi K., Sato H., Nagai K., Kimura K., Makita H., Sekine M., Obayashi M., Nishi T., Shibahara T., Tanaka T., Ishii S., Yamamoto J., Saito K., Kawai Y., Isono Y., Nakamura Y., Nagahari K., Murakami K., Yasuda T., Iwayanagi T., Wagatsuma M., Shiratori A., Sudo H., Hosoiri T., Kaku Y., Kodaira H., Kondo H., Sugawara M., Takahashi M., Kanda K., Yokoi T., Furuya T., Kikkawa E., Omura Y., Abe K., Kamihara K., Katsuta N., Sato K., Tanikawa M., Yamazaki M., Ninomiya K., Ishibashi T., Yamashita H., Murakawa K., Fujimori K., Tanai H., Kimata M., Watanabe M., Hiraoka S., Chiba Y., Ishida S., Ono Y., Takiguchi S., Watanabe S., Yosida M., Hotuta T., Kusano J., Kanehori K., Takahashi-Fujii A., Hara H., Tanase T.-O., Nomura Y., Togiya S., Komai F., Hara R., Takeuchi K., Arita M., Imose N., Musashino K., Yuuki H., Oshima A., Sasaki N., Aotsuka S., Yoshikawa Y., Matsunawa H., Ichihara T., Shiohata N., Sano S., Moriya S., Momiyama H., Satoh N., Takami S., Terashima Y., Suzuki O., Nakagawa S., Senoh A., Mizoguchi H., Goto Y., Shimizu F., Wakebe H., Hishigaki H., Watanabe T., Sugiyama A., Takemoto M., Kawakami B., Yamazaki M., Watanabe K., Kumagai A., Itakura S., Fukuzumi Y., Fujimori Y., Komiyama M., Tashiro H., Tanigami A., Fujiwara T., Ono T., Yamada K., Fujii Y., Ozaki K., Hirao M., Ohmori Y., Kawabata A., Hikiji T., Kobatake N., Inagaki H., Ikema Y., Okamoto S., Okitani R., Kawakami T., Noguchi S., Itoh T., Shigeta K., Senba T., Matsumura K., Nakajima Y., Mizuno T., Morinaga M., Sasaki M., Togashi T., Oyama M., Hata H., Watanabe M., Komatsu T., Mizushima-Sugano J., Satoh T., Shirai Y., Takahashi Y., Nakagawa K., Okumura K., Nagase T., Nomura N., Kikuchi H., Masuho Y., Yamashita R., Nakai K., Yada T., Nakamura Y., Ohara O., Isogai T., Sugano S.\n",
      "title: Complete sequencing and characterization of 21,243 full-length human cDNAs.\n",
      "['Eukaryota', 'Metazoa', 'Chordata', 'Craniata', 'Vertebrata', 'Euteleostomi', 'Mammalia', 'Eutheria', 'Euarchontoglires', 'Primates', 'Haplorrhini', 'Catarrhini', 'Hominidae', 'Homo']\n",
      "authors: Scherer S.E., Muzny D.M., Buhay C.J., Chen R., Cree A., Ding Y., Dugan-Rocha S., Gill R., Gunaratne P., Harris R.A., Hawes A.C., Hernandez J., Hodgson A.V., Hume J., Jackson A., Khan Z.M., Kovar-Smith C., Lewis L.R., Lozado R.J., Metzker M.L., Milosavljevic A., Miner G.R., Montgomery K.T., Morgan M.B., Nazareth L.V., Scott G., Sodergren E., Song X.-Z., Steffen D., Lovering R.C., Wheeler D.A., Worley K.C., Yuan Y., Zhang Z., Adams C.Q., Ansari-Lari M.A., Ayele M., Brown M.J., Chen G., Chen Z., Clerc-Blankenburg K.P., Davis C., Delgado O., Dinh H.H., Draper H., Gonzalez-Garay M.L., Havlak P., Jackson L.R., Jacob L.S., Kelly S.H., Li L., Li Z., Liu J., Liu W., Lu J., Maheshwari M., Nguyen B.-V., Okwuonu G.O., Pasternak S., Perez L.M., Plopper F.J.H., Santibanez J., Shen H., Tabor P.E., Verduzco D., Waldron L., Wang Q., Williams G.A., Zhang J., Zhou J., Allen C.C., Amin A.G., Anyalebechi V., Bailey M., Barbaria J.A., Bimage K.E., Bryant N.P., Burch P.E., Burkett C.E., Burrell K.L., Calderon E., Cardenas V., Carter K., Casias K., Cavazos I., Cavazos S.R., Ceasar H., Chacko J., Chan S.N., Chavez D., Christopoulos C., Chu J., Cockrell R., Cox C.D., Dang M., Dathorne S.R., David R., Davis C.M., Davy-Carroll L., Deshazo D.R., Donlin J.E., D'Souza L., Eaves K.A., Egan A., Emery-Cohen A.J., Escotto M., Flagg N., Forbes L.D., Gabisi A.M., Garza M., Hamilton C., Henderson N., Hernandez O., Hines S., Hogues M.E., Huang M., Idlebird D.G., Johnson R., Jolivet A., Jones S., Kagan R., King L.M., Leal B., Lebow H., Lee S., LeVan J.M., Lewis L.C., London P., Lorensuhewa L.M., Loulseged H., Lovett D.A., Lucier A., Lucier R.L., Ma J., Madu R.C., Mapua P., Martindale A.D., Martinez E., Massey E., Mawhiney S., Meador M.G., Mendez S., Mercado C., Mercado I.C., Merritt C.E., Miner Z.L., Minja E., Mitchell T., Mohabbat F., Mohabbat K., Montgomery B., Moore N., Morris S., Munidasa M., Ngo R.N., Nguyen N.B., Nickerson E., Nwaokelemeh O.O., Nwokenkwo S., Obregon M., Oguh M., Oragunye N., Oviedo R.J., Parish B.J., Parker D.N., Parrish J., Parks K.L., Paul H.A., Payton B.A., Perez A., Perrin W., Pickens A., Primus E.L., Pu L.-L., Puazo M., Quiles M.M., Quiroz J.B., Rabata D., Reeves K., Ruiz S.J., Shao H., Sisson I., Sonaike T., Sorelle R.P., Sutton A.E., Svatek A.F., Svetz L.A., Tamerisa K.S., Taylor T.R., Teague B., Thomas N., Thorn R.D., Trejos Z.Y., Trevino B.K., Ukegbu O.N., Urban J.B., Vasquez L.I., Vera V.A., Villasana D.M., Wang L., Ward-Moore S., Warren J.T., Wei X., White F., Williamson A.L., Wleczyk R., Wooden H.S., Wooden S.H., Yen J., Yoon L., Yoon V., Zorrilla S.E., Nelson D., Kucherlapati R., Weinstock G., Gibbs R.A.\n",
      "title: The finished DNA sequence of human chromosome 12.\n",
      "['Eukaryota', 'Metazoa', 'Chordata', 'Craniata', 'Vertebrata', 'Euteleostomi', 'Mammalia', 'Eutheria', 'Euarchontoglires', 'Primates', 'Haplorrhini', 'Catarrhini', 'Hominidae', 'Homo']\n",
      "authors: The MGC Project Team\n",
      "title: The status, quality, and expansion of the NIH full-length cDNA project: the Mammalian Gene Collection (MGC).\n",
      "['Eukaryota', 'Metazoa', 'Chordata', 'Craniata', 'Vertebrata', 'Euteleostomi', 'Mammalia', 'Eutheria', 'Euarchontoglires', 'Primates', 'Haplorrhini', 'Catarrhini', 'Hominidae', 'Homo']\n",
      "authors: Bienvenut W.V., Lilla S., Zebisch A., Kolch W.\n",
      "title: \n",
      "['Eukaryota', 'Metazoa', 'Chordata', 'Craniata', 'Vertebrata', 'Euteleostomi', 'Mammalia', 'Eutheria', 'Euarchontoglires', 'Primates', 'Haplorrhini', 'Catarrhini', 'Hominidae', 'Homo']\n",
      "authors: Coates P.J., Nenutil R., McGregor A., Picksley S.M., Crouch D.H., Hall P.A., Wright E.G.\n",
      "title: Mammalian prohibitin proteins respond to mitochondrial stress and decrease during cellular senescence.\n",
      "['Eukaryota', 'Metazoa', 'Chordata', 'Craniata', 'Vertebrata', 'Euteleostomi', 'Mammalia', 'Eutheria', 'Euarchontoglires', 'Primates', 'Haplorrhini', 'Catarrhini', 'Hominidae', 'Homo']\n",
      "authors: Andersen J.S., Wilkinson C.J., Mayor T., Mortensen P., Nigg E.A., Mann M.\n",
      "title: Proteomic characterization of the human centrosome by protein correlation profiling.\n",
      "['Eukaryota', 'Metazoa', 'Chordata', 'Craniata', 'Vertebrata', 'Euteleostomi', 'Mammalia', 'Eutheria', 'Euarchontoglires', 'Primates', 'Haplorrhini', 'Catarrhini', 'Hominidae', 'Homo']\n",
      "authors: Rush J., Moritz A., Lee K.A., Guo A., Goss V.L., Spek E.J., Zhang H., Zha X.-M., Polakiewicz R.D., Comb M.J.\n",
      "title: Immunoaffinity profiling of tyrosine phosphorylation in cancer cells.\n",
      "['Eukaryota', 'Metazoa', 'Chordata', 'Craniata', 'Vertebrata', 'Euteleostomi', 'Mammalia', 'Eutheria', 'Euarchontoglires', 'Primates', 'Haplorrhini', 'Catarrhini', 'Hominidae', 'Homo']\n",
      "authors: Daub H., Olsen J.V., Bairlein M., Gnad F., Oppermann F.S., Korner R., Greff Z., Keri G., Stemmann O., Mann M.\n",
      "title: Kinase-selective enrichment enables quantitative phosphoproteomics of the kinome across the cell cycle.\n",
      "['Eukaryota', 'Metazoa', 'Chordata', 'Craniata', 'Vertebrata', 'Euteleostomi', 'Mammalia', 'Eutheria', 'Euarchontoglires', 'Primates', 'Haplorrhini', 'Catarrhini', 'Hominidae', 'Homo']\n",
      "authors: Kim J.W., Akiyama M., Park J.H., Lin M.L., Shimo A., Ueki T., Daigo Y., Tsunoda T., Nishidate T., Nakamura Y., Katagiri T.\n",
      "title: Activation of an estrogen/estrogen receptor signaling by BIG3 through its inhibitory effect on nuclear transport of PHB2/REA in breast cancer.\n",
      "['Eukaryota', 'Metazoa', 'Chordata', 'Craniata', 'Vertebrata', 'Euteleostomi', 'Mammalia', 'Eutheria', 'Euarchontoglires', 'Primates', 'Haplorrhini', 'Catarrhini', 'Hominidae', 'Homo']\n",
      "authors: Cornillez-Ty C.T., Liao L., Yates J.R., Kuhn P., Buchmeier M.J.\n",
      "title: Severe acute respiratory syndrome coronavirus nonstructural protein 2 interacts with a host protein complex involved in mitochondrial biogenesis and intracellular signaling.\n",
      "['Eukaryota', 'Metazoa', 'Chordata', 'Craniata', 'Vertebrata', 'Euteleostomi', 'Mammalia', 'Eutheria', 'Euarchontoglires', 'Primates', 'Haplorrhini', 'Catarrhini', 'Hominidae', 'Homo']\n",
      "authors: Choudhary C., Kumar C., Gnad F., Nielsen M.L., Rehman M., Walther T.C., Olsen J.V., Mann M.\n",
      "title: Lysine acetylation targets protein complexes and co-regulates major cellular functions.\n",
      "['Eukaryota', 'Metazoa', 'Chordata', 'Craniata', 'Vertebrata', 'Euteleostomi', 'Mammalia', 'Eutheria', 'Euarchontoglires', 'Primates', 'Haplorrhini', 'Catarrhini', 'Hominidae', 'Homo']\n",
      "authors: Emerson V., Holtkotte D., Pfeiffer T., Wang I.H., Schnoelzer M., Kempf T., Bosch V.\n",
      "title: Identification of the cellular prohibitin 1/prohibitin 2 heterodimer as an interaction partner of the C-terminal cytoplasmic domain of the HIV-1 glycoprotein.\n",
      "['Eukaryota', 'Metazoa', 'Chordata', 'Craniata', 'Vertebrata', 'Euteleostomi', 'Mammalia', 'Eutheria', 'Euarchontoglires', 'Primates', 'Haplorrhini', 'Catarrhini', 'Hominidae', 'Homo']\n",
      "authors: Burkard T.R., Planyavsky M., Kaupe I., Breitwieser F.P., Buerckstuemmer T., Bennett K.L., Superti-Furga G., Colinge J.\n",
      "title: Initial characterization of the human central proteome.\n",
      "['Eukaryota', 'Metazoa', 'Chordata', 'Craniata', 'Vertebrata', 'Euteleostomi', 'Mammalia', 'Eutheria', 'Euarchontoglires', 'Primates', 'Haplorrhini', 'Catarrhini', 'Hominidae', 'Homo']\n",
      "authors: Sircoulomb F., Nicolas N., Ferrari A., Finetti P., Bekhouche I., Rousselet E., Lonigro A., Adelaide J., Baudelet E., Esteyries S., Wicinski J., Audebert S., Charafe-Jauffret E., Jacquemier J., Lopez M., Borg J.P., Sotiriou C., Popovici C., Bertucci F., Birnbaum D., Chaffanet M., Ginestier C.\n",
      "title: ZNF703 gene amplification at 8p12 specifies luminal B breast cancer.\n",
      "['Eukaryota', 'Metazoa', 'Chordata', 'Craniata', 'Vertebrata', 'Euteleostomi', 'Mammalia', 'Eutheria', 'Euarchontoglires', 'Primates', 'Haplorrhini', 'Catarrhini', 'Hominidae', 'Homo']\n",
      "authors: Strub G.M., Paillard M., Liang J., Gomez L., Allegood J.C., Hait N.C., Maceyka M., Price M.M., Chen Q., Simpson D.C., Kordula T., Milstien S., Lesnefsky E.J., Spiegel S.\n",
      "title: Sphingosine-1-phosphate produced by sphingosine kinase 2 in mitochondria interacts with prohibitin 2 to regulate complex IV assembly and respiration.\n",
      "['Eukaryota', 'Metazoa', 'Chordata', 'Craniata', 'Vertebrata', 'Euteleostomi', 'Mammalia', 'Eutheria', 'Euarchontoglires', 'Primates', 'Haplorrhini', 'Catarrhini', 'Hominidae', 'Homo']\n",
      "authors: Christie D.A., Lemke C.D., Elias I.M., Chau L.A., Kirchhof M.G., Li B., Ball E.H., Dunn S.D., Hatch G.M., Madrenas J.\n",
      "title: Stomatin-like protein 2 binds cardiolipin and regulates mitochondrial biogenesis and function.\n",
      "['Eukaryota', 'Metazoa', 'Chordata', 'Craniata', 'Vertebrata', 'Euteleostomi', 'Mammalia', 'Eutheria', 'Euarchontoglires', 'Primates', 'Haplorrhini', 'Catarrhini', 'Hominidae', 'Homo']\n",
      "authors: Wintachai P., Wikan N., Kuadkitkan A., Jaimipuk T., Ubol S., Pulmanausahakul R., Auewarakul P., Kasinrerk W., Weng W.Y., Panyasrivanit M., Paemanee A., Kittisenachai S., Roytrakul S., Smith D.R.\n",
      "title: Identification of prohibitin as a Chikungunya virus receptor protein.\n",
      "['Eukaryota', 'Metazoa', 'Chordata', 'Craniata', 'Vertebrata', 'Euteleostomi', 'Mammalia', 'Eutheria', 'Euarchontoglires', 'Primates', 'Haplorrhini', 'Catarrhini', 'Hominidae', 'Homo']\n",
      "authors: Van Damme P., Lasa M., Polevoda B., Gazquez C., Elosegui-Artola A., Kim D.S., De Juan-Pardo E., Demeyer K., Hole K., Larrea E., Timmerman E., Prieto J., Arnesen T., Sherman F., Gevaert K., Aldabe R.\n",
      "title: N-terminal acetylome analyses and functional insights of the N-terminal acetyltransferase NatB.\n",
      "['Eukaryota', 'Metazoa', 'Chordata', 'Craniata', 'Vertebrata', 'Euteleostomi', 'Mammalia', 'Eutheria', 'Euarchontoglires', 'Primates', 'Haplorrhini', 'Catarrhini', 'Hominidae', 'Homo']\n",
      "authors: Fu P., Yang Z., Bach L.A.\n",
      "title: Prohibitin-2 binding modulates insulin-like growth factor-binding protein-6 (IGFBP-6)-induced rhabdomyosarcoma cell migration.\n",
      "['Eukaryota', 'Metazoa', 'Chordata', 'Craniata', 'Vertebrata', 'Euteleostomi', 'Mammalia', 'Eutheria', 'Euarchontoglires', 'Primates', 'Haplorrhini', 'Catarrhini', 'Hominidae', 'Homo']\n",
      "authors: Zhou H., Di Palma S., Preisinger C., Peng M., Polat A.N., Heck A.J., Mohammed S.\n",
      "title: Toward a comprehensive characterization of a human cancer cell phosphoproteome.\n",
      "['Eukaryota', 'Metazoa', 'Chordata', 'Craniata', 'Vertebrata', 'Euteleostomi', 'Mammalia', 'Eutheria', 'Euarchontoglires', 'Primates', 'Haplorrhini', 'Catarrhini', 'Hominidae', 'Homo']\n",
      "authors: Bian Y., Song C., Cheng K., Dong M., Wang F., Huang J., Sun D., Wang L., Ye M., Zou H.\n",
      "title: An enzyme assisted RP-RPLC approach for in-depth analysis of human liver phosphoproteome.\n",
      "['Eukaryota', 'Metazoa', 'Chordata', 'Craniata', 'Vertebrata', 'Euteleostomi', 'Mammalia', 'Eutheria', 'Euarchontoglires', 'Primates', 'Haplorrhini', 'Catarrhini', 'Hominidae', 'Homo']\n",
      "authors: Bavelloni A., Piazzi M., Raffini M., Faenza I., Blalock W.L.\n",
      "title: Prohibitin 2: At a communications crossroads.\n",
      "['Eukaryota', 'Metazoa', 'Chordata', 'Craniata', 'Vertebrata', 'Euteleostomi', 'Mammalia', 'Eutheria', 'Euarchontoglires', 'Primates', 'Haplorrhini', 'Catarrhini', 'Hominidae', 'Homo']\n",
      "authors: Vaca Jacome A.S., Rabilloud T., Schaeffer-Reiss C., Rompais M., Ayoub D., Lane L., Bairoch A., Van Dorsselaer A., Carapito C.\n",
      "title: N-terminome analysis of the human mitochondrial proteome.\n",
      "['Eukaryota', 'Metazoa', 'Chordata', 'Craniata', 'Vertebrata', 'Euteleostomi', 'Mammalia', 'Eutheria', 'Euarchontoglires', 'Primates', 'Haplorrhini', 'Catarrhini', 'Hominidae', 'Homo']\n",
      "authors: Wei Y., Chiang W.C., Sumpter R. Jr., Mishra P., Levine B.\n",
      "title: Prohibitin 2 Is an Inner Mitochondrial Membrane Mitophagy Receptor.\n",
      "['Eukaryota', 'Metazoa', 'Chordata', 'Craniata', 'Vertebrata', 'Euteleostomi', 'Mammalia', 'Eutheria', 'Euarchontoglires', 'Primates', 'Haplorrhini', 'Catarrhini', 'Hominidae', 'Homo']\n",
      "authors: Su W., Huang S., Zhu H., Zhang B., Wu X.\n",
      "title: Interaction between PHB2 and Enterovirus A71 VP1 Induces Autophagy and Affects EV-A71 Infection.\n",
      "['Eukaryota', 'Metazoa', 'Chordata', 'Craniata', 'Vertebrata', 'Euteleostomi', 'Mammalia', 'Eutheria', 'Euarchontoglires', 'Primates', 'Haplorrhini', 'Catarrhini', 'Hominidae', 'Homo']\n",
      "authors: Yoshinaka T., Kosako H., Yoshizumi T., Furukawa R., Hirano Y., Kuge O., Tamada T., Koshiba T.\n",
      "title: Structural Basis of Mitochondrial Scaffolds by Prohibitin Complexes: Insight into a Role of the Coiled-Coil Region.\n",
      "['Eukaryota', 'Metazoa', 'Chordata', 'Craniata', 'Vertebrata', 'Euteleostomi', 'Mammalia', 'Eutheria', 'Euarchontoglires', 'Primates', 'Haplorrhini', 'Catarrhini', 'Hominidae', 'Homo']\n"
     ]
    }
   ],
   "source": [
    "#Abrir ficheiro SwissProt localmente full infor\n",
    "ficheiro = open(\"C:/Users/Zé Freitas/Desktop/Mestrado/Labs_Bioinf/Trabalho prático/scripts/Labs_Bioinf/Proibitina-2/uniprot-yourlist_M20210102A94466D2655679D1FD8953E075198DA82A5A6BY.txt\")\n",
    "ficheiro\n",
    "\n",
    "record = SwissProt.read(ficheiro)\n",
    "print(record.description)\n",
    "print(record.references)\n",
    "\n",
    "for ref in record.references:\n",
    "    print(\"authors:\", ref.authors)\n",
    "    print(\"title:\", ref.title)\n",
    "    print(record.organism_classification)"
   ]
  },
  {
   "cell_type": "code",
   "execution_count": 5,
   "metadata": {},
   "outputs": [
    {
     "name": "stdout",
     "output_type": "stream",
     "text": [
      "RecName: Full=Prohibitin-2; AltName: Full=B-cell receptor-associated protein BAP37; AltName: Full=D-prohibitin; AltName: Full=Repressor of estrogen receptor activity;\n",
      "[<Bio.SwissProt.Reference object at 0x0000026F0613FC40>, <Bio.SwissProt.Reference object at 0x0000026F0613FA00>, <Bio.SwissProt.Reference object at 0x0000026F0613FD00>, <Bio.SwissProt.Reference object at 0x0000026F0613FB80>, <Bio.SwissProt.Reference object at 0x0000026F0613FE50>, <Bio.SwissProt.Reference object at 0x0000026F0615A370>, <Bio.SwissProt.Reference object at 0x0000026F0615A3D0>, <Bio.SwissProt.Reference object at 0x0000026F0615A430>, <Bio.SwissProt.Reference object at 0x0000026F0615A400>, <Bio.SwissProt.Reference object at 0x0000026F0615A460>, <Bio.SwissProt.Reference object at 0x0000026F0615A520>, <Bio.SwissProt.Reference object at 0x0000026F0615A550>, <Bio.SwissProt.Reference object at 0x0000026F0615A580>, <Bio.SwissProt.Reference object at 0x0000026F0615A5B0>, <Bio.SwissProt.Reference object at 0x0000026F0615A5E0>, <Bio.SwissProt.Reference object at 0x0000026F0615A610>, <Bio.SwissProt.Reference object at 0x0000026F0615A640>, <Bio.SwissProt.Reference object at 0x0000026F0615A670>, <Bio.SwissProt.Reference object at 0x0000026F0615A6A0>, <Bio.SwissProt.Reference object at 0x0000026F0615A6D0>, <Bio.SwissProt.Reference object at 0x0000026F0615A700>, <Bio.SwissProt.Reference object at 0x0000026F0615A730>, <Bio.SwissProt.Reference object at 0x0000026F0615A760>, <Bio.SwissProt.Reference object at 0x0000026F0615A790>, <Bio.SwissProt.Reference object at 0x0000026F0615A7C0>, <Bio.SwissProt.Reference object at 0x0000026F0615A7F0>, <Bio.SwissProt.Reference object at 0x0000026F0615A820>, <Bio.SwissProt.Reference object at 0x0000026F0615A850>, <Bio.SwissProt.Reference object at 0x0000026F0615A880>, <Bio.SwissProt.Reference object at 0x0000026F0615A8B0>]\n"
     ]
    }
   ],
   "source": [
    "#Abrir ficheiro SwissProt pela internet\n",
    "url = \"https://www.uniprot.org/uniprot/Q99623.txt\"\n",
    "handle = urlopen(url)\n",
    "handle \n",
    "\n",
    "recorde = SwissProt.read(handle)\n",
    "print(recorde.description)\n",
    "print(recorde.references)"
   ]
  },
  {
   "cell_type": "code",
   "execution_count": 6,
   "metadata": {},
   "outputs": [
    {
     "ename": "KeyboardInterrupt",
     "evalue": "",
     "output_type": "error",
     "traceback": [
      "\u001b[1;31m---------------------------------------------------------------------------\u001b[0m",
      "\u001b[1;31mKeyboardInterrupt\u001b[0m                         Traceback (most recent call last)",
      "\u001b[1;32m<ipython-input-6-5c60eda8aa67>\u001b[0m in \u001b[0;36m<module>\u001b[1;34m\u001b[0m\n\u001b[0;32m      1\u001b[0m \u001b[1;31m#BLAST de proteinas\u001b[0m\u001b[1;33m\u001b[0m\u001b[1;33m\u001b[0m\u001b[1;33m\u001b[0m\u001b[0m\n\u001b[1;32m----> 2\u001b[1;33m \u001b[0mblast\u001b[0m \u001b[1;33m=\u001b[0m \u001b[0mNCBIWWW\u001b[0m\u001b[1;33m.\u001b[0m\u001b[0mqblast\u001b[0m\u001b[1;33m(\u001b[0m\u001b[1;34m\"blastp\"\u001b[0m\u001b[1;33m,\u001b[0m \u001b[1;34m\"nr\"\u001b[0m\u001b[1;33m,\u001b[0m \u001b[0mpro2\u001b[0m\u001b[1;33m.\u001b[0m\u001b[0mformat\u001b[0m\u001b[1;33m(\u001b[0m\u001b[1;34m\"fasta\"\u001b[0m\u001b[1;33m)\u001b[0m\u001b[1;33m)\u001b[0m\u001b[1;33m\u001b[0m\u001b[1;33m\u001b[0m\u001b[0m\n\u001b[0m",
      "\u001b[1;32mC:\\ProgramData\\Anaconda3\\lib\\site-packages\\Bio\\Blast\\NCBIWWW.py\u001b[0m in \u001b[0;36mqblast\u001b[1;34m(program, database, sequence, url_base, auto_format, composition_based_statistics, db_genetic_code, endpoints, entrez_query, expect, filter, gapcosts, genetic_code, hitlist_size, i_thresh, layout, lcase_mask, matrix_name, nucl_penalty, nucl_reward, other_advanced, perc_ident, phi_pattern, query_file, query_believe_defline, query_from, query_to, searchsp_eff, service, threshold, ungapped_alignment, word_size, short_query, alignments, alignment_view, descriptions, entrez_links_new_window, expect_low, expect_high, format_entrez_query, format_object, format_type, ncbi_gi, results_file, show_overview, megablast, template_type, template_length)\u001b[0m\n\u001b[0;32m    244\u001b[0m         \u001b[0mwait\u001b[0m \u001b[1;33m=\u001b[0m \u001b[0mqblast\u001b[0m\u001b[1;33m.\u001b[0m\u001b[0m_previous\u001b[0m \u001b[1;33m+\u001b[0m \u001b[0mdelay\u001b[0m \u001b[1;33m-\u001b[0m \u001b[0mcurrent\u001b[0m\u001b[1;33m\u001b[0m\u001b[1;33m\u001b[0m\u001b[0m\n\u001b[0;32m    245\u001b[0m         \u001b[1;32mif\u001b[0m \u001b[0mwait\u001b[0m \u001b[1;33m>\u001b[0m \u001b[1;36m0\u001b[0m\u001b[1;33m:\u001b[0m\u001b[1;33m\u001b[0m\u001b[1;33m\u001b[0m\u001b[0m\n\u001b[1;32m--> 246\u001b[1;33m             \u001b[0mtime\u001b[0m\u001b[1;33m.\u001b[0m\u001b[0msleep\u001b[0m\u001b[1;33m(\u001b[0m\u001b[0mwait\u001b[0m\u001b[1;33m)\u001b[0m\u001b[1;33m\u001b[0m\u001b[1;33m\u001b[0m\u001b[0m\n\u001b[0m\u001b[0;32m    247\u001b[0m             \u001b[0mqblast\u001b[0m\u001b[1;33m.\u001b[0m\u001b[0m_previous\u001b[0m \u001b[1;33m=\u001b[0m \u001b[0mcurrent\u001b[0m \u001b[1;33m+\u001b[0m \u001b[0mwait\u001b[0m\u001b[1;33m\u001b[0m\u001b[1;33m\u001b[0m\u001b[0m\n\u001b[0;32m    248\u001b[0m         \u001b[1;32melse\u001b[0m\u001b[1;33m:\u001b[0m\u001b[1;33m\u001b[0m\u001b[1;33m\u001b[0m\u001b[0m\n",
      "\u001b[1;31mKeyboardInterrupt\u001b[0m: "
     ]
    }
   ],
   "source": [
    "#BLAST de proteinas \n",
    "blast = NCBIWWW.qblast(\"blastp\", \"nr\", pro2.format(\"fasta\"))"
   ]
  },
  {
   "cell_type": "code",
   "execution_count": null,
   "metadata": {},
   "outputs": [],
   "source": [
    "save_file = open(\"my_blast_pro2.xml\",\"w\")\n",
    "save_file.write(blast.read())\n",
    "save_file.close()\n",
    "blast.close()"
   ]
  },
  {
   "cell_type": "code",
   "execution_count": null,
   "metadata": {},
   "outputs": [],
   "source": [
    "#Leitura dos resultados do BLASTp\n",
    "save_file = open(\"my_blast_pro2.xml\",\"w\")\n",
    "save_file.write(blast.read())\n",
    "save_file.close()\n",
    "blast.close()\n",
    "\n",
    "E_VALUE_THRESH = 0.05\n",
    "for blast_record in blast_records:\n",
    "    for alignment in blast_record.alignments:\n",
    "        for hsp in alignment.hsps:\n",
    "                if hsp.expect < E_VALUE_THRESH:\n",
    "                    print ('****Alignment****')\n",
    "                    print ('sequence:', alignment.title)\n",
    "                    print ('length:', alignment.length)\n",
    "                    print ('e value:', hsp.expect)\n",
    "                    \n",
    "result.close()"
   ]
  }
 ],
 "metadata": {
  "kernelspec": {
   "display_name": "Python 3",
   "language": "python",
   "name": "python3"
  },
  "language_info": {
   "codemirror_mode": {
    "name": "ipython",
    "version": 3
   },
   "file_extension": ".py",
   "mimetype": "text/x-python",
   "name": "python",
   "nbconvert_exporter": "python",
   "pygments_lexer": "ipython3",
   "version": "3.8.3"
  }
 },
 "nbformat": 4,
 "nbformat_minor": 4
}
