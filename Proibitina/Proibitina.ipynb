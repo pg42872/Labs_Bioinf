{
 "cells": [
  {
   "cell_type": "code",
   "execution_count": 1,
   "metadata": {},
   "outputs": [],
   "source": [
    "from Bio.Seq import Seq\n",
    "from Bio import SeqIO\n",
    "from Bio.SeqRecord import SeqRecord\n",
    "from Bio.SeqFeature import SeqFeature, FeatureLocation\n",
    "from Bio.Blast import NCBIWWW, NCBIXML\n",
    "from Bio import SwissProt\n",
    "from urllib.request import urlopen"
   ]
  },
  {
   "cell_type": "code",
   "execution_count": 6,
   "metadata": {},
   "outputs": [
    {
     "data": {
      "text/plain": [
       "SeqRecord(seq=Seq('MAAKVFESIGKFGLALAVAGGVVNSALYNVDAGHRAVIFDRFRGVQDIVVGEGT...LPQ'), id='NP_002625.1', name='NP_002625.1', description='NP_002625.1 prohibitin isoform 1 [Homo sapiens]', dbxrefs=[])"
      ]
     },
     "execution_count": 6,
     "metadata": {},
     "output_type": "execute_result"
    }
   ],
   "source": [
    "#Proibitina\n",
    "#Ficheiro NCBI local\n",
    "pro = SeqIO.read(open(\"C:/Users/Zé Freitas/Desktop/Mestrado/Labs_Bioinf/Trabalho prático/scripts/Labs_Bioinf/Proibitina/sequence.fasta\"),\"fasta\")\n",
    "pro"
   ]
  },
  {
   "cell_type": "code",
   "execution_count": 2,
   "metadata": {},
   "outputs": [
    {
     "data": {
      "text/plain": [
       "SeqRecord(seq=Seq('MAAKVFESIGKFGLALAVAGGVVNSALYNVDAGHRAVIFDRFRGVQDIVVGEGT...LPQ'), id='sp|P35232|PHB_HUMAN', name='sp|P35232|PHB_HUMAN', description='sp|P35232|PHB_HUMAN Prohibitin OS=Homo sapiens OX=9606 GN=PHB PE=1 SV=1', dbxrefs=[])"
      ]
     },
     "execution_count": 2,
     "metadata": {},
     "output_type": "execute_result"
    }
   ],
   "source": [
    "#Abrir ficheiro SwissProt localmente FASTA\n",
    "ficheiro = SeqIO.read(open(\"C:/Users/Zé Freitas/Desktop/Mestrado/Labs_Bioinf/Trabalho prático/scripts/Labs_Bioinf/Proibitina/uniprot-yourlist_M20210105A94466D2655679D1FD8953E075198DA82BA1DF7.fasta\"),\"fasta\")\n",
    "ficheiro "
   ]
  },
  {
   "cell_type": "code",
   "execution_count": 3,
   "metadata": {},
   "outputs": [
    {
     "name": "stdout",
     "output_type": "stream",
     "text": [
      "RecName: Full=Prohibitin {ECO:0000305};\n",
      "[<Bio.SwissProt.Reference object at 0x00000190A04FE310>, <Bio.SwissProt.Reference object at 0x00000190A04FE3D0>, <Bio.SwissProt.Reference object at 0x00000190A04FE340>, <Bio.SwissProt.Reference object at 0x00000190A04FE1F0>, <Bio.SwissProt.Reference object at 0x00000190A04FE370>, <Bio.SwissProt.Reference object at 0x00000190A04FE400>, <Bio.SwissProt.Reference object at 0x00000190A04FE430>, <Bio.SwissProt.Reference object at 0x000001909EDF83D0>, <Bio.SwissProt.Reference object at 0x00000190A04FE460>, <Bio.SwissProt.Reference object at 0x00000190A04FE4C0>, <Bio.SwissProt.Reference object at 0x00000190A04FE4F0>, <Bio.SwissProt.Reference object at 0x00000190A04FE520>, <Bio.SwissProt.Reference object at 0x00000190A04FE550>, <Bio.SwissProt.Reference object at 0x00000190A04FE580>, <Bio.SwissProt.Reference object at 0x00000190A04FE5B0>, <Bio.SwissProt.Reference object at 0x00000190A04FE5E0>, <Bio.SwissProt.Reference object at 0x00000190A04FE610>, <Bio.SwissProt.Reference object at 0x00000190A04FE640>, <Bio.SwissProt.Reference object at 0x00000190A04FE670>, <Bio.SwissProt.Reference object at 0x00000190A04FE6A0>, <Bio.SwissProt.Reference object at 0x00000190A04FE6D0>, <Bio.SwissProt.Reference object at 0x00000190A04FE700>, <Bio.SwissProt.Reference object at 0x00000190A04FE730>]\n",
      "authors: Sato T., Saito H., Swensen J., Olifant A., Wood C., Danner D., Sakamoto T., Takita K., Kasumi F., Miki Y., Skolnick M., Nakamura Y.\n",
      "title: The human prohibitin gene located on chromosome 17q21 is mutated in sporadic breast cancer.\n",
      "['Eukaryota', 'Metazoa', 'Chordata', 'Craniata', 'Vertebrata', 'Euteleostomi', 'Mammalia', 'Eutheria', 'Euarchontoglires', 'Primates', 'Haplorrhini', 'Catarrhini', 'Hominidae', 'Homo']\n",
      "authors: Sato T., Sakamoto T., Takita K., Saito H., Okui K., Nakamura Y.\n",
      "title: The human prohibitin (PHB) gene family and its somatic mutations in human tumors.\n",
      "['Eukaryota', 'Metazoa', 'Chordata', 'Craniata', 'Vertebrata', 'Euteleostomi', 'Mammalia', 'Eutheria', 'Euarchontoglires', 'Primates', 'Haplorrhini', 'Catarrhini', 'Hominidae', 'Homo']\n",
      "authors: Kalnine N., Chen X., Rolfs A., Halleck A., Hines L., Eisenstein S., Koundinya M., Raphael J., Moreira D., Kelley T., LaBaer J., Lin Y., Phelan M., Farmer A.\n",
      "title: Cloning of human full-length CDSs in BD Creator(TM) system donor vector.\n",
      "['Eukaryota', 'Metazoa', 'Chordata', 'Craniata', 'Vertebrata', 'Euteleostomi', 'Mammalia', 'Eutheria', 'Euarchontoglires', 'Primates', 'Haplorrhini', 'Catarrhini', 'Hominidae', 'Homo']\n",
      "authors: Ota T., Suzuki Y., Nishikawa T., Otsuki T., Sugiyama T., Irie R., Wakamatsu A., Hayashi K., Sato H., Nagai K., Kimura K., Makita H., Sekine M., Obayashi M., Nishi T., Shibahara T., Tanaka T., Ishii S., Yamamoto J., Saito K., Kawai Y., Isono Y., Nakamura Y., Nagahari K., Murakami K., Yasuda T., Iwayanagi T., Wagatsuma M., Shiratori A., Sudo H., Hosoiri T., Kaku Y., Kodaira H., Kondo H., Sugawara M., Takahashi M., Kanda K., Yokoi T., Furuya T., Kikkawa E., Omura Y., Abe K., Kamihara K., Katsuta N., Sato K., Tanikawa M., Yamazaki M., Ninomiya K., Ishibashi T., Yamashita H., Murakawa K., Fujimori K., Tanai H., Kimata M., Watanabe M., Hiraoka S., Chiba Y., Ishida S., Ono Y., Takiguchi S., Watanabe S., Yosida M., Hotuta T., Kusano J., Kanehori K., Takahashi-Fujii A., Hara H., Tanase T.-O., Nomura Y., Togiya S., Komai F., Hara R., Takeuchi K., Arita M., Imose N., Musashino K., Yuuki H., Oshima A., Sasaki N., Aotsuka S., Yoshikawa Y., Matsunawa H., Ichihara T., Shiohata N., Sano S., Moriya S., Momiyama H., Satoh N., Takami S., Terashima Y., Suzuki O., Nakagawa S., Senoh A., Mizoguchi H., Goto Y., Shimizu F., Wakebe H., Hishigaki H., Watanabe T., Sugiyama A., Takemoto M., Kawakami B., Yamazaki M., Watanabe K., Kumagai A., Itakura S., Fukuzumi Y., Fujimori Y., Komiyama M., Tashiro H., Tanigami A., Fujiwara T., Ono T., Yamada K., Fujii Y., Ozaki K., Hirao M., Ohmori Y., Kawabata A., Hikiji T., Kobatake N., Inagaki H., Ikema Y., Okamoto S., Okitani R., Kawakami T., Noguchi S., Itoh T., Shigeta K., Senba T., Matsumura K., Nakajima Y., Mizuno T., Morinaga M., Sasaki M., Togashi T., Oyama M., Hata H., Watanabe M., Komatsu T., Mizushima-Sugano J., Satoh T., Shirai Y., Takahashi Y., Nakagawa K., Okumura K., Nagase T., Nomura N., Kikuchi H., Masuho Y., Yamashita R., Nakai K., Yada T., Nakamura Y., Ohara O., Isogai T., Sugano S.\n",
      "title: Complete sequencing and characterization of 21,243 full-length human cDNAs.\n",
      "['Eukaryota', 'Metazoa', 'Chordata', 'Craniata', 'Vertebrata', 'Euteleostomi', 'Mammalia', 'Eutheria', 'Euarchontoglires', 'Primates', 'Haplorrhini', 'Catarrhini', 'Hominidae', 'Homo']\n",
      "authors: Zody M.C., Garber M., Adams D.J., Sharpe T., Harrow J., Lupski J.R., Nicholson C., Searle S.M., Wilming L., Young S.K., Abouelleil A., Allen N.R., Bi W., Bloom T., Borowsky M.L., Bugalter B.E., Butler J., Chang J.L., Chen C.-K., Cook A., Corum B., Cuomo C.A., de Jong P.J., DeCaprio D., Dewar K., FitzGerald M., Gilbert J., Gibson R., Gnerre S., Goldstein S., Grafham D.V., Grocock R., Hafez N., Hagopian D.S., Hart E., Norman C.H., Humphray S., Jaffe D.B., Jones M., Kamal M., Khodiyar V.K., LaButti K., Laird G., Lehoczky J., Liu X., Lokyitsang T., Loveland J., Lui A., Macdonald P., Major J.E., Matthews L., Mauceli E., McCarroll S.A., Mihalev A.H., Mudge J., Nguyen C., Nicol R., O'Leary S.B., Osoegawa K., Schwartz D.C., Shaw-Smith C., Stankiewicz P., Steward C., Swarbreck D., Venkataraman V., Whittaker C.A., Yang X., Zimmer A.R., Bradley A., Hubbard T., Birren B.W., Rogers J., Lander E.S., Nusbaum C.\n",
      "title: DNA sequence of human chromosome 17 and analysis of rearrangement in the human lineage.\n",
      "['Eukaryota', 'Metazoa', 'Chordata', 'Craniata', 'Vertebrata', 'Euteleostomi', 'Mammalia', 'Eutheria', 'Euarchontoglires', 'Primates', 'Haplorrhini', 'Catarrhini', 'Hominidae', 'Homo']\n",
      "authors: The MGC Project Team\n",
      "title: The status, quality, and expansion of the NIH full-length cDNA project: the Mammalian Gene Collection (MGC).\n",
      "['Eukaryota', 'Metazoa', 'Chordata', 'Craniata', 'Vertebrata', 'Euteleostomi', 'Mammalia', 'Eutheria', 'Euarchontoglires', 'Primates', 'Haplorrhini', 'Catarrhini', 'Hominidae', 'Homo']\n",
      "authors: Bienvenut W.V.\n",
      "title: \n",
      "['Eukaryota', 'Metazoa', 'Chordata', 'Craniata', 'Vertebrata', 'Euteleostomi', 'Mammalia', 'Eutheria', 'Euarchontoglires', 'Primates', 'Haplorrhini', 'Catarrhini', 'Hominidae', 'Homo']\n",
      "authors: Lubec G., Vishwanath V., Chen W.-Q., Sun Y.\n",
      "title: \n",
      "['Eukaryota', 'Metazoa', 'Chordata', 'Craniata', 'Vertebrata', 'Euteleostomi', 'Mammalia', 'Eutheria', 'Euarchontoglires', 'Primates', 'Haplorrhini', 'Catarrhini', 'Hominidae', 'Homo']\n",
      "authors: Coates P.J., Nenutil R., McGregor A., Picksley S.M., Crouch D.H., Hall P.A., Wright E.G.\n",
      "title: Mammalian prohibitin proteins respond to mitochondrial stress and decrease during cellular senescence.\n",
      "['Eukaryota', 'Metazoa', 'Chordata', 'Craniata', 'Vertebrata', 'Euteleostomi', 'Mammalia', 'Eutheria', 'Euarchontoglires', 'Primates', 'Haplorrhini', 'Catarrhini', 'Hominidae', 'Homo']\n",
      "authors: Fusaro G., Dasgupta P., Rastogi S., Joshi B., Chellappan S.\n",
      "title: Prohibitin induces the transcriptional activity of p53 and is exported from the nucleus upon apoptotic signaling.\n",
      "['Eukaryota', 'Metazoa', 'Chordata', 'Craniata', 'Vertebrata', 'Euteleostomi', 'Mammalia', 'Eutheria', 'Euarchontoglires', 'Primates', 'Haplorrhini', 'Catarrhini', 'Hominidae', 'Homo']\n",
      "authors: Cornillez-Ty C.T., Liao L., Yates J.R., Kuhn P., Buchmeier M.J.\n",
      "title: Severe acute respiratory syndrome coronavirus nonstructural protein 2 interacts with a host protein complex involved in mitochondrial biogenesis and intracellular signaling.\n",
      "['Eukaryota', 'Metazoa', 'Chordata', 'Craniata', 'Vertebrata', 'Euteleostomi', 'Mammalia', 'Eutheria', 'Euarchontoglires', 'Primates', 'Haplorrhini', 'Catarrhini', 'Hominidae', 'Homo']\n",
      "authors: Choudhary C., Kumar C., Gnad F., Nielsen M.L., Rehman M., Walther T.C., Olsen J.V., Mann M.\n",
      "title: Lysine acetylation targets protein complexes and co-regulates major cellular functions.\n",
      "['Eukaryota', 'Metazoa', 'Chordata', 'Craniata', 'Vertebrata', 'Euteleostomi', 'Mammalia', 'Eutheria', 'Euarchontoglires', 'Primates', 'Haplorrhini', 'Catarrhini', 'Hominidae', 'Homo']\n",
      "authors: Emerson V., Holtkotte D., Pfeiffer T., Wang I.H., Schnoelzer M., Kempf T., Bosch V.\n",
      "title: Identification of the cellular prohibitin 1/prohibitin 2 heterodimer as an interaction partner of the C-terminal cytoplasmic domain of the HIV-1 glycoprotein.\n",
      "['Eukaryota', 'Metazoa', 'Chordata', 'Craniata', 'Vertebrata', 'Euteleostomi', 'Mammalia', 'Eutheria', 'Euarchontoglires', 'Primates', 'Haplorrhini', 'Catarrhini', 'Hominidae', 'Homo']\n",
      "authors: Burkard T.R., Planyavsky M., Kaupe I., Breitwieser F.P., Buerckstuemmer T., Bennett K.L., Superti-Furga G., Colinge J.\n",
      "title: Initial characterization of the human central proteome.\n",
      "['Eukaryota', 'Metazoa', 'Chordata', 'Craniata', 'Vertebrata', 'Euteleostomi', 'Mammalia', 'Eutheria', 'Euarchontoglires', 'Primates', 'Haplorrhini', 'Catarrhini', 'Hominidae', 'Homo']\n",
      "authors: Strub G.M., Paillard M., Liang J., Gomez L., Allegood J.C., Hait N.C., Maceyka M., Price M.M., Chen Q., Simpson D.C., Kordula T., Milstien S., Lesnefsky E.J., Spiegel S.\n",
      "title: Sphingosine-1-phosphate produced by sphingosine kinase 2 in mitochondria interacts with prohibitin 2 to regulate complex IV assembly and respiration.\n",
      "['Eukaryota', 'Metazoa', 'Chordata', 'Craniata', 'Vertebrata', 'Euteleostomi', 'Mammalia', 'Eutheria', 'Euarchontoglires', 'Primates', 'Haplorrhini', 'Catarrhini', 'Hominidae', 'Homo']\n",
      "authors: Christie D.A., Lemke C.D., Elias I.M., Chau L.A., Kirchhof M.G., Li B., Ball E.H., Dunn S.D., Hatch G.M., Madrenas J.\n",
      "title: Stomatin-like protein 2 binds cardiolipin and regulates mitochondrial biogenesis and function.\n",
      "['Eukaryota', 'Metazoa', 'Chordata', 'Craniata', 'Vertebrata', 'Euteleostomi', 'Mammalia', 'Eutheria', 'Euarchontoglires', 'Primates', 'Haplorrhini', 'Catarrhini', 'Hominidae', 'Homo']\n",
      "authors: Wintachai P., Wikan N., Kuadkitkan A., Jaimipuk T., Ubol S., Pulmanausahakul R., Auewarakul P., Kasinrerk W., Weng W.Y., Panyasrivanit M., Paemanee A., Kittisenachai S., Roytrakul S., Smith D.R.\n",
      "title: Identification of prohibitin as a Chikungunya virus receptor protein.\n",
      "['Eukaryota', 'Metazoa', 'Chordata', 'Craniata', 'Vertebrata', 'Euteleostomi', 'Mammalia', 'Eutheria', 'Euarchontoglires', 'Primates', 'Haplorrhini', 'Catarrhini', 'Hominidae', 'Homo']\n",
      "authors: Fu P., Yang Z., Bach L.A.\n",
      "title: Prohibitin-2 binding modulates insulin-like growth factor-binding protein-6 (IGFBP-6)-induced rhabdomyosarcoma cell migration.\n",
      "['Eukaryota', 'Metazoa', 'Chordata', 'Craniata', 'Vertebrata', 'Euteleostomi', 'Mammalia', 'Eutheria', 'Euarchontoglires', 'Primates', 'Haplorrhini', 'Catarrhini', 'Hominidae', 'Homo']\n",
      "authors: Bian Y., Song C., Cheng K., Dong M., Wang F., Huang J., Sun D., Wang L., Ye M., Zou H.\n",
      "title: An enzyme assisted RP-RPLC approach for in-depth analysis of human liver phosphoproteome.\n",
      "['Eukaryota', 'Metazoa', 'Chordata', 'Craniata', 'Vertebrata', 'Euteleostomi', 'Mammalia', 'Eutheria', 'Euarchontoglires', 'Primates', 'Haplorrhini', 'Catarrhini', 'Hominidae', 'Homo']\n",
      "authors: Vaca Jacome A.S., Rabilloud T., Schaeffer-Reiss C., Rompais M., Ayoub D., Lane L., Bairoch A., Van Dorsselaer A., Carapito C.\n",
      "title: N-terminome analysis of the human mitochondrial proteome.\n",
      "['Eukaryota', 'Metazoa', 'Chordata', 'Craniata', 'Vertebrata', 'Euteleostomi', 'Mammalia', 'Eutheria', 'Euarchontoglires', 'Primates', 'Haplorrhini', 'Catarrhini', 'Hominidae', 'Homo']\n",
      "authors: Wei Y., Chiang W.C., Sumpter R. Jr., Mishra P., Levine B.\n",
      "title: Prohibitin 2 Is an Inner Mitochondrial Membrane Mitophagy Receptor.\n",
      "['Eukaryota', 'Metazoa', 'Chordata', 'Craniata', 'Vertebrata', 'Euteleostomi', 'Mammalia', 'Eutheria', 'Euarchontoglires', 'Primates', 'Haplorrhini', 'Catarrhini', 'Hominidae', 'Homo']\n",
      "authors: Yoshinaka T., Kosako H., Yoshizumi T., Furukawa R., Hirano Y., Kuge O., Tamada T., Koshiba T.\n",
      "title: Structural Basis of Mitochondrial Scaffolds by Prohibitin Complexes: Insight into a Role of the Coiled-Coil Region.\n",
      "['Eukaryota', 'Metazoa', 'Chordata', 'Craniata', 'Vertebrata', 'Euteleostomi', 'Mammalia', 'Eutheria', 'Euarchontoglires', 'Primates', 'Haplorrhini', 'Catarrhini', 'Hominidae', 'Homo']\n",
      "authors: Zhang J., Sun Z., Wu Q., Shen J.\n",
      "title: Prohibitin 1 interacts with signal transducer and activator of transcription 3 in T-helper 17 cells.\n",
      "['Eukaryota', 'Metazoa', 'Chordata', 'Craniata', 'Vertebrata', 'Euteleostomi', 'Mammalia', 'Eutheria', 'Euarchontoglires', 'Primates', 'Haplorrhini', 'Catarrhini', 'Hominidae', 'Homo']\n"
     ]
    }
   ],
   "source": [
    "#Abrir ficheiro SwissProt localmente full infor\n",
    "ficheiro = open(\"C:/Users/Zé Freitas/Desktop/Mestrado/Labs_Bioinf/Trabalho prático/scripts/Labs_Bioinf/Proibitina/uniprot-yourlist_M20210102A94466D2655679D1FD8953E075198DA82A5A69C.txt\")\n",
    "ficheiro\n",
    "\n",
    "record = SwissProt.read(ficheiro)\n",
    "print(record.description)\n",
    "print(record.references)\n",
    "\n",
    "for ref in record.references:\n",
    "    print(\"authors:\", ref.authors)\n",
    "    print(\"title:\", ref.title)\n",
    "    print(record.organism_classification)"
   ]
  },
  {
   "cell_type": "code",
   "execution_count": null,
   "metadata": {},
   "outputs": [],
   "source": [
    "#Comentário sobre o complexo formada pela pro e pro2\n",
    "print(record.comments[4])\n",
    "\n",
    "#Artigo da interação da nsp2 do SARS-CoV com a proibitina\n",
    "print(record.comments[5])\n",
    "\n",
    "#RN   [11]\n",
    "#RP   INTERACTION WITH SARS-COV NSP2 (MICROBIAL INFECTION).\n",
    "#RX   PubMed=19640993; DOI=10.1128/jvi.00842-09;\n",
    "#RA   Cornillez-Ty C.T., Liao L., Yates J.R., Kuhn P., Buchmeier M.J.;\n",
    "#RT   \"Severe acute respiratory syndrome coronavirus nonstructural protein 2\n",
    "#RT   interacts with a host protein complex involved in mitochondrial biogenesis\n",
    "#RT   and intracellular signaling.\";\n",
    "#RL   J. Virol. 83:10314-10318(2009)."
   ]
  },
  {
   "cell_type": "code",
   "execution_count": 4,
   "metadata": {},
   "outputs": [
    {
     "name": "stdout",
     "output_type": "stream",
     "text": [
      "RecName: Full=Prohibitin {ECO:0000305};\n",
      "[<Bio.SwissProt.Reference object at 0x00000190A05222B0>, <Bio.SwissProt.Reference object at 0x00000190A0522C70>, <Bio.SwissProt.Reference object at 0x00000190A0522340>, <Bio.SwissProt.Reference object at 0x00000190A05224C0>, <Bio.SwissProt.Reference object at 0x00000190A0522CA0>, <Bio.SwissProt.Reference object at 0x00000190A05225B0>, <Bio.SwissProt.Reference object at 0x00000190A05225E0>, <Bio.SwissProt.Reference object at 0x00000190A0522C10>, <Bio.SwissProt.Reference object at 0x00000190A0522520>, <Bio.SwissProt.Reference object at 0x00000190A0522D30>, <Bio.SwissProt.Reference object at 0x00000190A0522D60>, <Bio.SwissProt.Reference object at 0x00000190A0522D90>, <Bio.SwissProt.Reference object at 0x00000190A0522DC0>, <Bio.SwissProt.Reference object at 0x00000190A0522DF0>, <Bio.SwissProt.Reference object at 0x00000190A0522E20>, <Bio.SwissProt.Reference object at 0x00000190A0522E50>, <Bio.SwissProt.Reference object at 0x00000190A0522E80>, <Bio.SwissProt.Reference object at 0x00000190A0522EB0>, <Bio.SwissProt.Reference object at 0x00000190A0522EE0>, <Bio.SwissProt.Reference object at 0x00000190A0522F10>, <Bio.SwissProt.Reference object at 0x00000190A0522F40>, <Bio.SwissProt.Reference object at 0x00000190A0522F70>, <Bio.SwissProt.Reference object at 0x00000190A0522FA0>]\n"
     ]
    }
   ],
   "source": [
    "#Abrir ficheiro SwissProt pela internet\n",
    "url = \"https://www.uniprot.org/uniprot/P35232.txt\"\n",
    "handle = urlopen(url)\n",
    "handle \n",
    "\n",
    "recorde = SwissProt.read(handle)\n",
    "recorde\n",
    "print(recorde.description)\n",
    "print(recorde.references)\n"
   ]
  },
  {
   "cell_type": "code",
   "execution_count": 7,
   "metadata": {},
   "outputs": [
    {
     "ename": "KeyboardInterrupt",
     "evalue": "",
     "output_type": "error",
     "traceback": [
      "\u001b[1;31m---------------------------------------------------------------------------\u001b[0m",
      "\u001b[1;31mKeyboardInterrupt\u001b[0m                         Traceback (most recent call last)",
      "\u001b[1;32m<ipython-input-7-f37c40d0d735>\u001b[0m in \u001b[0;36m<module>\u001b[1;34m\u001b[0m\n\u001b[0;32m      1\u001b[0m \u001b[1;31m#BLAST de proteinas\u001b[0m\u001b[1;33m\u001b[0m\u001b[1;33m\u001b[0m\u001b[1;33m\u001b[0m\u001b[0m\n\u001b[1;32m----> 2\u001b[1;33m \u001b[0mblast\u001b[0m \u001b[1;33m=\u001b[0m \u001b[0mNCBIWWW\u001b[0m\u001b[1;33m.\u001b[0m\u001b[0mqblast\u001b[0m\u001b[1;33m(\u001b[0m\u001b[1;34m\"blastp\"\u001b[0m\u001b[1;33m,\u001b[0m \u001b[1;34m\"nr\"\u001b[0m\u001b[1;33m,\u001b[0m \u001b[0mpro\u001b[0m\u001b[1;33m.\u001b[0m\u001b[0mformat\u001b[0m\u001b[1;33m(\u001b[0m\u001b[1;34m\"fasta\"\u001b[0m\u001b[1;33m)\u001b[0m\u001b[1;33m)\u001b[0m\u001b[1;33m\u001b[0m\u001b[1;33m\u001b[0m\u001b[0m\n\u001b[0m",
      "\u001b[1;32mC:\\ProgramData\\Anaconda3\\lib\\site-packages\\Bio\\Blast\\NCBIWWW.py\u001b[0m in \u001b[0;36mqblast\u001b[1;34m(program, database, sequence, url_base, auto_format, composition_based_statistics, db_genetic_code, endpoints, entrez_query, expect, filter, gapcosts, genetic_code, hitlist_size, i_thresh, layout, lcase_mask, matrix_name, nucl_penalty, nucl_reward, other_advanced, perc_ident, phi_pattern, query_file, query_believe_defline, query_from, query_to, searchsp_eff, service, threshold, ungapped_alignment, word_size, short_query, alignments, alignment_view, descriptions, entrez_links_new_window, expect_low, expect_high, format_entrez_query, format_object, format_type, ncbi_gi, results_file, show_overview, megablast, template_type, template_length)\u001b[0m\n\u001b[0;32m    244\u001b[0m         \u001b[0mwait\u001b[0m \u001b[1;33m=\u001b[0m \u001b[0mqblast\u001b[0m\u001b[1;33m.\u001b[0m\u001b[0m_previous\u001b[0m \u001b[1;33m+\u001b[0m \u001b[0mdelay\u001b[0m \u001b[1;33m-\u001b[0m \u001b[0mcurrent\u001b[0m\u001b[1;33m\u001b[0m\u001b[1;33m\u001b[0m\u001b[0m\n\u001b[0;32m    245\u001b[0m         \u001b[1;32mif\u001b[0m \u001b[0mwait\u001b[0m \u001b[1;33m>\u001b[0m \u001b[1;36m0\u001b[0m\u001b[1;33m:\u001b[0m\u001b[1;33m\u001b[0m\u001b[1;33m\u001b[0m\u001b[0m\n\u001b[1;32m--> 246\u001b[1;33m             \u001b[0mtime\u001b[0m\u001b[1;33m.\u001b[0m\u001b[0msleep\u001b[0m\u001b[1;33m(\u001b[0m\u001b[0mwait\u001b[0m\u001b[1;33m)\u001b[0m\u001b[1;33m\u001b[0m\u001b[1;33m\u001b[0m\u001b[0m\n\u001b[0m\u001b[0;32m    247\u001b[0m             \u001b[0mqblast\u001b[0m\u001b[1;33m.\u001b[0m\u001b[0m_previous\u001b[0m \u001b[1;33m=\u001b[0m \u001b[0mcurrent\u001b[0m \u001b[1;33m+\u001b[0m \u001b[0mwait\u001b[0m\u001b[1;33m\u001b[0m\u001b[1;33m\u001b[0m\u001b[0m\n\u001b[0;32m    248\u001b[0m         \u001b[1;32melse\u001b[0m\u001b[1;33m:\u001b[0m\u001b[1;33m\u001b[0m\u001b[1;33m\u001b[0m\u001b[0m\n",
      "\u001b[1;31mKeyboardInterrupt\u001b[0m: "
     ]
    }
   ],
   "source": [
    "#BLAST de proteinas \n",
    "blast = NCBIWWW.qblast(\"blastp\", \"nr\", pro.format(\"fasta\"))"
   ]
  },
  {
   "cell_type": "code",
   "execution_count": null,
   "metadata": {},
   "outputs": [],
   "source": [
    "save_file = open(\"my_blast_pro.xml\",\"w\")\n",
    "save_file.write(blast.read())\n",
    "save_file.close()\n",
    "blast.close()"
   ]
  },
  {
   "cell_type": "code",
   "execution_count": null,
   "metadata": {},
   "outputs": [],
   "source": [
    "#Leitura dos resultados do BLASTp\n",
    "result = open(\"my_blast_pro.xml\")\n",
    "blast_records = NCBIXML.parse(result)\n",
    "blast_records\n",
    "\n",
    "E_VALUE_THRESH = 0.05\n",
    "for blast_record in blast_records:\n",
    "    for alignment in blast_record.alignments:\n",
    "        for hsp in alignment.hsps:\n",
    "                if hsp.expect < E_VALUE_THRESH:\n",
    "                    print ('****Alignment****')\n",
    "                    print ('sequence:', alignment.title)\n",
    "                    print ('length:', alignment.length)\n",
    "                    print ('e value:', hsp.expect)\n",
    "                    \n",
    "result.close()"
   ]
  }
 ],
 "metadata": {
  "kernelspec": {
   "display_name": "Python 3",
   "language": "python",
   "name": "python3"
  },
  "language_info": {
   "codemirror_mode": {
    "name": "ipython",
    "version": 3
   },
   "file_extension": ".py",
   "mimetype": "text/x-python",
   "name": "python",
   "nbconvert_exporter": "python",
   "pygments_lexer": "ipython3",
   "version": "3.8.3"
  }
 },
 "nbformat": 4,
 "nbformat_minor": 4
}
